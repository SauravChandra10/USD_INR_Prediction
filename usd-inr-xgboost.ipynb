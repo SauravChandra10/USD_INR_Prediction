{
 "cells": [
  {
   "cell_type": "code",
   "execution_count": 1,
   "id": "1cef6f01",
   "metadata": {
    "_cell_guid": "b1076dfc-b9ad-4769-8c92-a6c4dae69d19",
    "_uuid": "8f2839f25d086af736a60e9eeb907d3b93b6e0e5",
    "execution": {
     "iopub.execute_input": "2024-01-19T06:56:30.965072Z",
     "iopub.status.busy": "2024-01-19T06:56:30.964591Z",
     "iopub.status.idle": "2024-01-19T06:56:31.265553Z",
     "shell.execute_reply": "2024-01-19T06:56:31.264752Z"
    },
    "papermill": {
     "duration": 0.308191,
     "end_time": "2024-01-19T06:56:31.267583",
     "exception": false,
     "start_time": "2024-01-19T06:56:30.959392",
     "status": "completed"
    },
    "tags": []
   },
   "outputs": [
    {
     "name": "stdout",
     "output_type": "stream",
     "text": [
      "/kaggle/input/usd-inr-training/USD_INR.csv\n"
     ]
    }
   ],
   "source": [
    "# This Python 3 environment comes with many helpful analytics libraries installed\n",
    "# It is defined by the kaggle/python Docker image: https://github.com/kaggle/docker-python\n",
    "# For example, here's several helpful packages to load\n",
    "\n",
    "import numpy as np # linear algebra\n",
    "import pandas as pd # data processing, CSV file I/O (e.g. pd.read_csv)\n",
    "\n",
    "# Input data files are available in the read-only \"../input/\" directory\n",
    "# For example, running this (by clicking run or pressing Shift+Enter) will list all files under the input directory\n",
    "\n",
    "import os\n",
    "for dirname, _, filenames in os.walk('/kaggle/input'):\n",
    "    for filename in filenames:\n",
    "        print(os.path.join(dirname, filename))\n",
    "\n",
    "# You can write up to 20GB to the current directory (/kaggle/working/) that gets preserved as output when you create a version using \"Save & Run All\" \n",
    "# You can also write temporary files to /kaggle/temp/, but they won't be saved outside of the current session"
   ]
  },
  {
   "cell_type": "code",
   "execution_count": 2,
   "id": "48b05a98",
   "metadata": {
    "execution": {
     "iopub.execute_input": "2024-01-19T06:56:31.275865Z",
     "iopub.status.busy": "2024-01-19T06:56:31.275433Z",
     "iopub.status.idle": "2024-01-19T06:56:31.319795Z",
     "shell.execute_reply": "2024-01-19T06:56:31.318802Z"
    },
    "papermill": {
     "duration": 0.050892,
     "end_time": "2024-01-19T06:56:31.322039",
     "exception": false,
     "start_time": "2024-01-19T06:56:31.271147",
     "status": "completed"
    },
    "tags": []
   },
   "outputs": [],
   "source": [
    "df=pd.read_csv('/kaggle/input/usd-inr-training/USD_INR.csv')"
   ]
  },
  {
   "cell_type": "code",
   "execution_count": 3,
   "id": "48985c11",
   "metadata": {
    "execution": {
     "iopub.execute_input": "2024-01-19T06:56:31.329965Z",
     "iopub.status.busy": "2024-01-19T06:56:31.329684Z",
     "iopub.status.idle": "2024-01-19T06:56:31.353606Z",
     "shell.execute_reply": "2024-01-19T06:56:31.352845Z"
    },
    "papermill": {
     "duration": 0.029954,
     "end_time": "2024-01-19T06:56:31.355396",
     "exception": false,
     "start_time": "2024-01-19T06:56:31.325442",
     "status": "completed"
    },
    "tags": []
   },
   "outputs": [],
   "source": [
    "# coverting Date from string to date-time\n",
    "df['date']=pd.to_datetime(df['Date'], format = '%d/%m/%y')\n",
    "df['Year'] = df['date'].dt.year\n",
    "df['Day'] = df['date'].dt.day"
   ]
  },
  {
   "cell_type": "code",
   "execution_count": 4,
   "id": "47546948",
   "metadata": {
    "execution": {
     "iopub.execute_input": "2024-01-19T06:56:31.362986Z",
     "iopub.status.busy": "2024-01-19T06:56:31.362738Z",
     "iopub.status.idle": "2024-01-19T06:56:31.374703Z",
     "shell.execute_reply": "2024-01-19T06:56:31.373878Z"
    },
    "papermill": {
     "duration": 0.0177,
     "end_time": "2024-01-19T06:56:31.376433",
     "exception": false,
     "start_time": "2024-01-19T06:56:31.358733",
     "status": "completed"
    },
    "tags": []
   },
   "outputs": [],
   "source": [
    "# getting X and y\n",
    "X=df.drop(['Date','date','INR'],axis=1)\n",
    "y=df['INR']"
   ]
  },
  {
   "cell_type": "code",
   "execution_count": 5,
   "id": "93d41fca",
   "metadata": {
    "execution": {
     "iopub.execute_input": "2024-01-19T06:56:31.384340Z",
     "iopub.status.busy": "2024-01-19T06:56:31.383936Z",
     "iopub.status.idle": "2024-01-19T06:56:32.404636Z",
     "shell.execute_reply": "2024-01-19T06:56:32.403701Z"
    },
    "papermill": {
     "duration": 1.027469,
     "end_time": "2024-01-19T06:56:32.407025",
     "exception": false,
     "start_time": "2024-01-19T06:56:31.379556",
     "status": "completed"
    },
    "tags": []
   },
   "outputs": [],
   "source": [
    "# train test split\n",
    "from sklearn.model_selection import train_test_split\n",
    "X_train, X_test, y_train, y_test = train_test_split(X,y,test_size=0.2)"
   ]
  },
  {
   "cell_type": "code",
   "execution_count": 6,
   "id": "d03eaf1c",
   "metadata": {
    "execution": {
     "iopub.execute_input": "2024-01-19T06:56:32.417685Z",
     "iopub.status.busy": "2024-01-19T06:56:32.417166Z",
     "iopub.status.idle": "2024-01-19T06:56:32.647809Z",
     "shell.execute_reply": "2024-01-19T06:56:32.647101Z"
    },
    "papermill": {
     "duration": 0.237361,
     "end_time": "2024-01-19T06:56:32.649888",
     "exception": false,
     "start_time": "2024-01-19T06:56:32.412527",
     "status": "completed"
    },
    "tags": []
   },
   "outputs": [],
   "source": [
    "# using XGBoost\n",
    "import xgboost as xg\n",
    "xgb_r = xg.XGBRegressor()"
   ]
  },
  {
   "cell_type": "code",
   "execution_count": 7,
   "id": "fbabb19c",
   "metadata": {
    "execution": {
     "iopub.execute_input": "2024-01-19T06:56:32.658145Z",
     "iopub.status.busy": "2024-01-19T06:56:32.657731Z",
     "iopub.status.idle": "2024-01-19T06:56:33.056205Z",
     "shell.execute_reply": "2024-01-19T06:56:33.055275Z"
    },
    "papermill": {
     "duration": 0.404931,
     "end_time": "2024-01-19T06:56:33.058350",
     "exception": false,
     "start_time": "2024-01-19T06:56:32.653419",
     "status": "completed"
    },
    "tags": []
   },
   "outputs": [
    {
     "data": {
      "text/html": [
       "<style>#sk-container-id-1 {color: black;background-color: white;}#sk-container-id-1 pre{padding: 0;}#sk-container-id-1 div.sk-toggleable {background-color: white;}#sk-container-id-1 label.sk-toggleable__label {cursor: pointer;display: block;width: 100%;margin-bottom: 0;padding: 0.3em;box-sizing: border-box;text-align: center;}#sk-container-id-1 label.sk-toggleable__label-arrow:before {content: \"▸\";float: left;margin-right: 0.25em;color: #696969;}#sk-container-id-1 label.sk-toggleable__label-arrow:hover:before {color: black;}#sk-container-id-1 div.sk-estimator:hover label.sk-toggleable__label-arrow:before {color: black;}#sk-container-id-1 div.sk-toggleable__content {max-height: 0;max-width: 0;overflow: hidden;text-align: left;background-color: #f0f8ff;}#sk-container-id-1 div.sk-toggleable__content pre {margin: 0.2em;color: black;border-radius: 0.25em;background-color: #f0f8ff;}#sk-container-id-1 input.sk-toggleable__control:checked~div.sk-toggleable__content {max-height: 200px;max-width: 100%;overflow: auto;}#sk-container-id-1 input.sk-toggleable__control:checked~label.sk-toggleable__label-arrow:before {content: \"▾\";}#sk-container-id-1 div.sk-estimator input.sk-toggleable__control:checked~label.sk-toggleable__label {background-color: #d4ebff;}#sk-container-id-1 div.sk-label input.sk-toggleable__control:checked~label.sk-toggleable__label {background-color: #d4ebff;}#sk-container-id-1 input.sk-hidden--visually {border: 0;clip: rect(1px 1px 1px 1px);clip: rect(1px, 1px, 1px, 1px);height: 1px;margin: -1px;overflow: hidden;padding: 0;position: absolute;width: 1px;}#sk-container-id-1 div.sk-estimator {font-family: monospace;background-color: #f0f8ff;border: 1px dotted black;border-radius: 0.25em;box-sizing: border-box;margin-bottom: 0.5em;}#sk-container-id-1 div.sk-estimator:hover {background-color: #d4ebff;}#sk-container-id-1 div.sk-parallel-item::after {content: \"\";width: 100%;border-bottom: 1px solid gray;flex-grow: 1;}#sk-container-id-1 div.sk-label:hover label.sk-toggleable__label {background-color: #d4ebff;}#sk-container-id-1 div.sk-serial::before {content: \"\";position: absolute;border-left: 1px solid gray;box-sizing: border-box;top: 0;bottom: 0;left: 50%;z-index: 0;}#sk-container-id-1 div.sk-serial {display: flex;flex-direction: column;align-items: center;background-color: white;padding-right: 0.2em;padding-left: 0.2em;position: relative;}#sk-container-id-1 div.sk-item {position: relative;z-index: 1;}#sk-container-id-1 div.sk-parallel {display: flex;align-items: stretch;justify-content: center;background-color: white;position: relative;}#sk-container-id-1 div.sk-item::before, #sk-container-id-1 div.sk-parallel-item::before {content: \"\";position: absolute;border-left: 1px solid gray;box-sizing: border-box;top: 0;bottom: 0;left: 50%;z-index: -1;}#sk-container-id-1 div.sk-parallel-item {display: flex;flex-direction: column;z-index: 1;position: relative;background-color: white;}#sk-container-id-1 div.sk-parallel-item:first-child::after {align-self: flex-end;width: 50%;}#sk-container-id-1 div.sk-parallel-item:last-child::after {align-self: flex-start;width: 50%;}#sk-container-id-1 div.sk-parallel-item:only-child::after {width: 0;}#sk-container-id-1 div.sk-dashed-wrapped {border: 1px dashed gray;margin: 0 0.4em 0.5em 0.4em;box-sizing: border-box;padding-bottom: 0.4em;background-color: white;}#sk-container-id-1 div.sk-label label {font-family: monospace;font-weight: bold;display: inline-block;line-height: 1.2em;}#sk-container-id-1 div.sk-label-container {text-align: center;}#sk-container-id-1 div.sk-container {/* jupyter's `normalize.less` sets `[hidden] { display: none; }` but bootstrap.min.css set `[hidden] { display: none !important; }` so we also need the `!important` here to be able to override the default hidden behavior on the sphinx rendered scikit-learn.org. See: https://github.com/scikit-learn/scikit-learn/issues/21755 */display: inline-block !important;position: relative;}#sk-container-id-1 div.sk-text-repr-fallback {display: none;}</style><div id=\"sk-container-id-1\" class=\"sk-top-container\"><div class=\"sk-text-repr-fallback\"><pre>XGBRegressor(base_score=None, booster=None, callbacks=None,\n",
       "             colsample_bylevel=None, colsample_bynode=None,\n",
       "             colsample_bytree=None, device=None, early_stopping_rounds=None,\n",
       "             enable_categorical=False, eval_metric=None, feature_types=None,\n",
       "             gamma=None, grow_policy=None, importance_type=None,\n",
       "             interaction_constraints=None, learning_rate=None, max_bin=None,\n",
       "             max_cat_threshold=None, max_cat_to_onehot=None,\n",
       "             max_delta_step=None, max_depth=None, max_leaves=None,\n",
       "             min_child_weight=None, missing=nan, monotone_constraints=None,\n",
       "             multi_strategy=None, n_estimators=None, n_jobs=None,\n",
       "             num_parallel_tree=None, random_state=None, ...)</pre><b>In a Jupyter environment, please rerun this cell to show the HTML representation or trust the notebook. <br />On GitHub, the HTML representation is unable to render, please try loading this page with nbviewer.org.</b></div><div class=\"sk-container\" hidden><div class=\"sk-item\"><div class=\"sk-estimator sk-toggleable\"><input class=\"sk-toggleable__control sk-hidden--visually\" id=\"sk-estimator-id-1\" type=\"checkbox\" checked><label for=\"sk-estimator-id-1\" class=\"sk-toggleable__label sk-toggleable__label-arrow\">XGBRegressor</label><div class=\"sk-toggleable__content\"><pre>XGBRegressor(base_score=None, booster=None, callbacks=None,\n",
       "             colsample_bylevel=None, colsample_bynode=None,\n",
       "             colsample_bytree=None, device=None, early_stopping_rounds=None,\n",
       "             enable_categorical=False, eval_metric=None, feature_types=None,\n",
       "             gamma=None, grow_policy=None, importance_type=None,\n",
       "             interaction_constraints=None, learning_rate=None, max_bin=None,\n",
       "             max_cat_threshold=None, max_cat_to_onehot=None,\n",
       "             max_delta_step=None, max_depth=None, max_leaves=None,\n",
       "             min_child_weight=None, missing=nan, monotone_constraints=None,\n",
       "             multi_strategy=None, n_estimators=None, n_jobs=None,\n",
       "             num_parallel_tree=None, random_state=None, ...)</pre></div></div></div></div></div>"
      ],
      "text/plain": [
       "XGBRegressor(base_score=None, booster=None, callbacks=None,\n",
       "             colsample_bylevel=None, colsample_bynode=None,\n",
       "             colsample_bytree=None, device=None, early_stopping_rounds=None,\n",
       "             enable_categorical=False, eval_metric=None, feature_types=None,\n",
       "             gamma=None, grow_policy=None, importance_type=None,\n",
       "             interaction_constraints=None, learning_rate=None, max_bin=None,\n",
       "             max_cat_threshold=None, max_cat_to_onehot=None,\n",
       "             max_delta_step=None, max_depth=None, max_leaves=None,\n",
       "             min_child_weight=None, missing=nan, monotone_constraints=None,\n",
       "             multi_strategy=None, n_estimators=None, n_jobs=None,\n",
       "             num_parallel_tree=None, random_state=None, ...)"
      ]
     },
     "execution_count": 7,
     "metadata": {},
     "output_type": "execute_result"
    }
   ],
   "source": [
    "xgb_r.fit(X_train, y_train) "
   ]
  },
  {
   "cell_type": "code",
   "execution_count": 8,
   "id": "14c78190",
   "metadata": {
    "execution": {
     "iopub.execute_input": "2024-01-19T06:56:33.066409Z",
     "iopub.status.busy": "2024-01-19T06:56:33.066118Z",
     "iopub.status.idle": "2024-01-19T06:56:33.082265Z",
     "shell.execute_reply": "2024-01-19T06:56:33.081643Z"
    },
    "papermill": {
     "duration": 0.022054,
     "end_time": "2024-01-19T06:56:33.084023",
     "exception": false,
     "start_time": "2024-01-19T06:56:33.061969",
     "status": "completed"
    },
    "tags": []
   },
   "outputs": [],
   "source": [
    "# Predict the model \n",
    "pred = xgb_r.predict(X_test) "
   ]
  },
  {
   "cell_type": "code",
   "execution_count": 9,
   "id": "98aa9952",
   "metadata": {
    "execution": {
     "iopub.execute_input": "2024-01-19T06:56:33.092115Z",
     "iopub.status.busy": "2024-01-19T06:56:33.091780Z",
     "iopub.status.idle": "2024-01-19T06:56:33.097826Z",
     "shell.execute_reply": "2024-01-19T06:56:33.096957Z"
    },
    "papermill": {
     "duration": 0.012274,
     "end_time": "2024-01-19T06:56:33.099897",
     "exception": false,
     "start_time": "2024-01-19T06:56:33.087623",
     "status": "completed"
    },
    "tags": []
   },
   "outputs": [
    {
     "name": "stdout",
     "output_type": "stream",
     "text": [
      "RMSE :  0.300019\n"
     ]
    }
   ],
   "source": [
    "# RMSE Computation \n",
    "from sklearn.metrics import mean_squared_error as MSE \n",
    "\n",
    "rmse = np.sqrt(MSE(y_test, pred)) \n",
    "print(\"RMSE : % f\" %(rmse)) "
   ]
  },
  {
   "cell_type": "code",
   "execution_count": 10,
   "id": "2efb9fd4",
   "metadata": {
    "execution": {
     "iopub.execute_input": "2024-01-19T06:56:33.108267Z",
     "iopub.status.busy": "2024-01-19T06:56:33.107983Z",
     "iopub.status.idle": "2024-01-19T06:56:33.114126Z",
     "shell.execute_reply": "2024-01-19T06:56:33.113375Z"
    },
    "papermill": {
     "duration": 0.012477,
     "end_time": "2024-01-19T06:56:33.116188",
     "exception": false,
     "start_time": "2024-01-19T06:56:33.103711",
     "status": "completed"
    },
    "tags": []
   },
   "outputs": [
    {
     "data": {
      "text/plain": [
       "0.09001158592599973"
      ]
     },
     "execution_count": 10,
     "metadata": {},
     "output_type": "execute_result"
    }
   ],
   "source": [
    "# MSE Computation\n",
    "from sklearn.metrics import mean_squared_error\n",
    "\n",
    "mse = mean_squared_error(y_test, pred)\n",
    "mse"
   ]
  },
  {
   "cell_type": "code",
   "execution_count": 11,
   "id": "942664ba",
   "metadata": {
    "execution": {
     "iopub.execute_input": "2024-01-19T06:56:33.124048Z",
     "iopub.status.busy": "2024-01-19T06:56:33.123785Z",
     "iopub.status.idle": "2024-01-19T06:56:33.129458Z",
     "shell.execute_reply": "2024-01-19T06:56:33.128651Z"
    },
    "papermill": {
     "duration": 0.011237,
     "end_time": "2024-01-19T06:56:33.131047",
     "exception": false,
     "start_time": "2024-01-19T06:56:33.119810",
     "status": "completed"
    },
    "tags": []
   },
   "outputs": [
    {
     "data": {
      "text/plain": [
       "0.21344511266481417"
      ]
     },
     "execution_count": 11,
     "metadata": {},
     "output_type": "execute_result"
    }
   ],
   "source": [
    "# MAE Computation\n",
    "from sklearn.metrics import mean_absolute_error\n",
    "\n",
    "mae = mean_absolute_error(y_test,pred)\n",
    "mae"
   ]
  },
  {
   "cell_type": "code",
   "execution_count": 12,
   "id": "729b890f",
   "metadata": {
    "execution": {
     "iopub.execute_input": "2024-01-19T06:56:33.139364Z",
     "iopub.status.busy": "2024-01-19T06:56:33.139097Z",
     "iopub.status.idle": "2024-01-19T06:56:33.144493Z",
     "shell.execute_reply": "2024-01-19T06:56:33.143622Z"
    },
    "papermill": {
     "duration": 0.011257,
     "end_time": "2024-01-19T06:56:33.146000",
     "exception": false,
     "start_time": "2024-01-19T06:56:33.134743",
     "status": "completed"
    },
    "tags": []
   },
   "outputs": [
    {
     "data": {
      "text/plain": [
       "0.999262917673206"
      ]
     },
     "execution_count": 12,
     "metadata": {},
     "output_type": "execute_result"
    }
   ],
   "source": [
    "# R2 score\n",
    "from sklearn.metrics import r2_score\n",
    "\n",
    "r2 = r2_score(y_test, pred)\n",
    "r2"
   ]
  },
  {
   "cell_type": "code",
   "execution_count": null,
   "id": "d6d033bf",
   "metadata": {
    "papermill": {
     "duration": 0.003411,
     "end_time": "2024-01-19T06:56:33.153255",
     "exception": false,
     "start_time": "2024-01-19T06:56:33.149844",
     "status": "completed"
    },
    "tags": []
   },
   "outputs": [],
   "source": []
  }
 ],
 "metadata": {
  "kaggle": {
   "accelerator": "none",
   "dataSources": [
    {
     "datasetId": 4294273,
     "sourceId": 7387798,
     "sourceType": "datasetVersion"
    }
   ],
   "dockerImageVersionId": 30635,
   "isGpuEnabled": false,
   "isInternetEnabled": true,
   "language": "python",
   "sourceType": "notebook"
  },
  "kernelspec": {
   "display_name": "Python 3",
   "language": "python",
   "name": "python3"
  },
  "language_info": {
   "codemirror_mode": {
    "name": "ipython",
    "version": 3
   },
   "file_extension": ".py",
   "mimetype": "text/x-python",
   "name": "python",
   "nbconvert_exporter": "python",
   "pygments_lexer": "ipython3",
   "version": "3.10.12"
  },
  "papermill": {
   "default_parameters": {},
   "duration": 5.0164,
   "end_time": "2024-01-19T06:56:33.575521",
   "environment_variables": {},
   "exception": null,
   "input_path": "__notebook__.ipynb",
   "output_path": "__notebook__.ipynb",
   "parameters": {},
   "start_time": "2024-01-19T06:56:28.559121",
   "version": "2.4.0"
  }
 },
 "nbformat": 4,
 "nbformat_minor": 5
}
