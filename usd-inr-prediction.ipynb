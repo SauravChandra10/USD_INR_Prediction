{
 "cells": [
  {
   "cell_type": "code",
   "execution_count": 1,
   "id": "3ef90fc3",
   "metadata": {
    "_cell_guid": "b1076dfc-b9ad-4769-8c92-a6c4dae69d19",
    "_uuid": "8f2839f25d086af736a60e9eeb907d3b93b6e0e5",
    "execution": {
     "iopub.execute_input": "2024-01-12T11:47:40.980914Z",
     "iopub.status.busy": "2024-01-12T11:47:40.979941Z",
     "iopub.status.idle": "2024-01-12T11:47:41.458548Z",
     "shell.execute_reply": "2024-01-12T11:47:41.456758Z"
    },
    "papermill": {
     "duration": 0.494182,
     "end_time": "2024-01-12T11:47:41.461506",
     "exception": false,
     "start_time": "2024-01-12T11:47:40.967324",
     "status": "completed"
    },
    "tags": []
   },
   "outputs": [
    {
     "name": "stdout",
     "output_type": "stream",
     "text": [
      "/kaggle/input/usd-inr-training/USD_INR.csv\n"
     ]
    }
   ],
   "source": [
    "# This Python 3 environment comes with many helpful analytics libraries installed\n",
    "# It is defined by the kaggle/python Docker image: https://github.com/kaggle/docker-python\n",
    "# For example, here's several helpful packages to load\n",
    "\n",
    "import numpy as np # linear algebra\n",
    "import pandas as pd # data processing, CSV file I/O (e.g. pd.read_csv)\n",
    "\n",
    "# Input data files are available in the read-only \"../input/\" directory\n",
    "# For example, running this (by clicking run or pressing Shift+Enter) will list all files under the input directory\n",
    "\n",
    "import os\n",
    "for dirname, _, filenames in os.walk('/kaggle/input'):\n",
    "    for filename in filenames:\n",
    "        print(os.path.join(dirname, filename))\n",
    "\n",
    "# You can write up to 20GB to the current directory (/kaggle/working/) that gets preserved as output when you create a version using \"Save & Run All\" \n",
    "# You can also write temporary files to /kaggle/temp/, but they won't be saved outside of the current session"
   ]
  },
  {
   "cell_type": "code",
   "execution_count": 2,
   "id": "b70a061f",
   "metadata": {
    "execution": {
     "iopub.execute_input": "2024-01-12T11:47:41.481508Z",
     "iopub.status.busy": "2024-01-12T11:47:41.480796Z",
     "iopub.status.idle": "2024-01-12T11:47:41.537658Z",
     "shell.execute_reply": "2024-01-12T11:47:41.536783Z"
    },
    "papermill": {
     "duration": 0.069639,
     "end_time": "2024-01-12T11:47:41.540475",
     "exception": false,
     "start_time": "2024-01-12T11:47:41.470836",
     "status": "completed"
    },
    "tags": []
   },
   "outputs": [],
   "source": [
    "df=pd.read_csv('/kaggle/input/usd-inr-training/USD_INR.csv')"
   ]
  },
  {
   "cell_type": "code",
   "execution_count": 3,
   "id": "7315399e",
   "metadata": {
    "execution": {
     "iopub.execute_input": "2024-01-12T11:47:41.560450Z",
     "iopub.status.busy": "2024-01-12T11:47:41.559441Z",
     "iopub.status.idle": "2024-01-12T11:47:41.602577Z",
     "shell.execute_reply": "2024-01-12T11:47:41.601560Z"
    },
    "papermill": {
     "duration": 0.055908,
     "end_time": "2024-01-12T11:47:41.605426",
     "exception": false,
     "start_time": "2024-01-12T11:47:41.549518",
     "status": "completed"
    },
    "tags": []
   },
   "outputs": [
    {
     "data": {
      "text/html": [
       "<div>\n",
       "<style scoped>\n",
       "    .dataframe tbody tr th:only-of-type {\n",
       "        vertical-align: middle;\n",
       "    }\n",
       "\n",
       "    .dataframe tbody tr th {\n",
       "        vertical-align: top;\n",
       "    }\n",
       "\n",
       "    .dataframe thead th {\n",
       "        text-align: right;\n",
       "    }\n",
       "</style>\n",
       "<table border=\"1\" class=\"dataframe\">\n",
       "  <thead>\n",
       "    <tr style=\"text-align: right;\">\n",
       "      <th></th>\n",
       "      <th>Month</th>\n",
       "      <th>Weekday</th>\n",
       "      <th>Date</th>\n",
       "      <th>EUR</th>\n",
       "      <th>JPY</th>\n",
       "      <th>BGN</th>\n",
       "      <th>CZK</th>\n",
       "      <th>DKK</th>\n",
       "      <th>GBP</th>\n",
       "      <th>HUF</th>\n",
       "      <th>...</th>\n",
       "      <th>IDR</th>\n",
       "      <th>INR</th>\n",
       "      <th>KRW</th>\n",
       "      <th>MXN</th>\n",
       "      <th>MYR</th>\n",
       "      <th>NZD</th>\n",
       "      <th>PHP</th>\n",
       "      <th>SGD</th>\n",
       "      <th>THB</th>\n",
       "      <th>ZAR</th>\n",
       "    </tr>\n",
       "  </thead>\n",
       "  <tbody>\n",
       "    <tr>\n",
       "      <th>0</th>\n",
       "      <td>9</td>\n",
       "      <td>4</td>\n",
       "      <td>27/09/23</td>\n",
       "      <td>1.0536</td>\n",
       "      <td>149.202733</td>\n",
       "      <td>1.856302</td>\n",
       "      <td>23.225133</td>\n",
       "      <td>7.077259</td>\n",
       "      <td>1.213685</td>\n",
       "      <td>370.966211</td>\n",
       "      <td>...</td>\n",
       "      <td>15551.85080</td>\n",
       "      <td>83.191439</td>\n",
       "      <td>1352.686029</td>\n",
       "      <td>17.618071</td>\n",
       "      <td>4.707954</td>\n",
       "      <td>0.592609</td>\n",
       "      <td>56.990319</td>\n",
       "      <td>1.371393</td>\n",
       "      <td>36.580296</td>\n",
       "      <td>19.192863</td>\n",
       "    </tr>\n",
       "    <tr>\n",
       "      <th>1</th>\n",
       "      <td>9</td>\n",
       "      <td>3</td>\n",
       "      <td>26/09/23</td>\n",
       "      <td>1.0605</td>\n",
       "      <td>148.863743</td>\n",
       "      <td>1.844224</td>\n",
       "      <td>23.018388</td>\n",
       "      <td>7.032060</td>\n",
       "      <td>1.218685</td>\n",
       "      <td>366.694955</td>\n",
       "      <td>...</td>\n",
       "      <td>15490.00471</td>\n",
       "      <td>83.262141</td>\n",
       "      <td>1348.533711</td>\n",
       "      <td>17.427251</td>\n",
       "      <td>4.689958</td>\n",
       "      <td>0.596390</td>\n",
       "      <td>57.007072</td>\n",
       "      <td>1.367280</td>\n",
       "      <td>36.349835</td>\n",
       "      <td>18.989816</td>\n",
       "    </tr>\n",
       "    <tr>\n",
       "      <th>2</th>\n",
       "      <td>9</td>\n",
       "      <td>2</td>\n",
       "      <td>25/09/23</td>\n",
       "      <td>1.0633</td>\n",
       "      <td>148.669237</td>\n",
       "      <td>1.839368</td>\n",
       "      <td>22.925797</td>\n",
       "      <td>7.013167</td>\n",
       "      <td>1.222676</td>\n",
       "      <td>367.798364</td>\n",
       "      <td>...</td>\n",
       "      <td>15381.45396</td>\n",
       "      <td>83.115772</td>\n",
       "      <td>1338.248848</td>\n",
       "      <td>17.236340</td>\n",
       "      <td>4.685037</td>\n",
       "      <td>0.596589</td>\n",
       "      <td>56.752563</td>\n",
       "      <td>1.365936</td>\n",
       "      <td>36.110223</td>\n",
       "      <td>18.753879</td>\n",
       "    </tr>\n",
       "    <tr>\n",
       "      <th>3</th>\n",
       "      <td>9</td>\n",
       "      <td>6</td>\n",
       "      <td>22/09/23</td>\n",
       "      <td>1.0647</td>\n",
       "      <td>148.276510</td>\n",
       "      <td>1.836949</td>\n",
       "      <td>22.879684</td>\n",
       "      <td>7.002630</td>\n",
       "      <td>1.226684</td>\n",
       "      <td>363.200902</td>\n",
       "      <td>...</td>\n",
       "      <td>15374.99765</td>\n",
       "      <td>82.931812</td>\n",
       "      <td>1332.985818</td>\n",
       "      <td>17.156006</td>\n",
       "      <td>4.687518</td>\n",
       "      <td>0.597039</td>\n",
       "      <td>56.757772</td>\n",
       "      <td>1.364610</td>\n",
       "      <td>35.960364</td>\n",
       "      <td>18.781816</td>\n",
       "    </tr>\n",
       "    <tr>\n",
       "      <th>4</th>\n",
       "      <td>9</td>\n",
       "      <td>5</td>\n",
       "      <td>21/09/23</td>\n",
       "      <td>1.0635</td>\n",
       "      <td>147.945463</td>\n",
       "      <td>1.839022</td>\n",
       "      <td>22.977903</td>\n",
       "      <td>7.009591</td>\n",
       "      <td>1.226460</td>\n",
       "      <td>364.626234</td>\n",
       "      <td>...</td>\n",
       "      <td>15374.99765</td>\n",
       "      <td>83.095252</td>\n",
       "      <td>1340.902680</td>\n",
       "      <td>17.151011</td>\n",
       "      <td>4.691490</td>\n",
       "      <td>0.590702</td>\n",
       "      <td>56.921486</td>\n",
       "      <td>1.368970</td>\n",
       "      <td>36.189939</td>\n",
       "      <td>18.948942</td>\n",
       "    </tr>\n",
       "  </tbody>\n",
       "</table>\n",
       "<p>5 rows × 31 columns</p>\n",
       "</div>"
      ],
      "text/plain": [
       "   Month  Weekday      Date     EUR         JPY       BGN        CZK  \\\n",
       "0      9        4  27/09/23  1.0536  149.202733  1.856302  23.225133   \n",
       "1      9        3  26/09/23  1.0605  148.863743  1.844224  23.018388   \n",
       "2      9        2  25/09/23  1.0633  148.669237  1.839368  22.925797   \n",
       "3      9        6  22/09/23  1.0647  148.276510  1.836949  22.879684   \n",
       "4      9        5  21/09/23  1.0635  147.945463  1.839022  22.977903   \n",
       "\n",
       "        DKK       GBP         HUF  ...          IDR        INR          KRW  \\\n",
       "0  7.077259  1.213685  370.966211  ...  15551.85080  83.191439  1352.686029   \n",
       "1  7.032060  1.218685  366.694955  ...  15490.00471  83.262141  1348.533711   \n",
       "2  7.013167  1.222676  367.798364  ...  15381.45396  83.115772  1338.248848   \n",
       "3  7.002630  1.226684  363.200902  ...  15374.99765  82.931812  1332.985818   \n",
       "4  7.009591  1.226460  364.626234  ...  15374.99765  83.095252  1340.902680   \n",
       "\n",
       "         MXN       MYR       NZD        PHP       SGD        THB        ZAR  \n",
       "0  17.618071  4.707954  0.592609  56.990319  1.371393  36.580296  19.192863  \n",
       "1  17.427251  4.689958  0.596390  57.007072  1.367280  36.349835  18.989816  \n",
       "2  17.236340  4.685037  0.596589  56.752563  1.365936  36.110223  18.753879  \n",
       "3  17.156006  4.687518  0.597039  56.757772  1.364610  35.960364  18.781816  \n",
       "4  17.151011  4.691490  0.590702  56.921486  1.368970  36.189939  18.948942  \n",
       "\n",
       "[5 rows x 31 columns]"
      ]
     },
     "execution_count": 3,
     "metadata": {},
     "output_type": "execute_result"
    }
   ],
   "source": [
    "df.head()"
   ]
  },
  {
   "cell_type": "code",
   "execution_count": 4,
   "id": "12f15dcd",
   "metadata": {
    "execution": {
     "iopub.execute_input": "2024-01-12T11:47:41.626514Z",
     "iopub.status.busy": "2024-01-12T11:47:41.626154Z",
     "iopub.status.idle": "2024-01-12T11:47:41.652558Z",
     "shell.execute_reply": "2024-01-12T11:47:41.651119Z"
    },
    "papermill": {
     "duration": 0.040315,
     "end_time": "2024-01-12T11:47:41.655423",
     "exception": false,
     "start_time": "2024-01-12T11:47:41.615108",
     "status": "completed"
    },
    "tags": []
   },
   "outputs": [
    {
     "name": "stdout",
     "output_type": "stream",
     "text": [
      "<class 'pandas.core.frame.DataFrame'>\n",
      "RangeIndex: 3777 entries, 0 to 3776\n",
      "Data columns (total 31 columns):\n",
      " #   Column   Non-Null Count  Dtype  \n",
      "---  ------   --------------  -----  \n",
      " 0   Month    3777 non-null   int64  \n",
      " 1   Weekday  3777 non-null   int64  \n",
      " 2   Date     3777 non-null   object \n",
      " 3   EUR      3777 non-null   float64\n",
      " 4   JPY      3777 non-null   float64\n",
      " 5   BGN      3777 non-null   float64\n",
      " 6   CZK      3777 non-null   float64\n",
      " 7   DKK      3777 non-null   float64\n",
      " 8   GBP      3777 non-null   float64\n",
      " 9   HUF      3777 non-null   float64\n",
      " 10  PLN      3777 non-null   float64\n",
      " 11  RON      3777 non-null   float64\n",
      " 12  SEK      3777 non-null   float64\n",
      " 13  CHF      3777 non-null   float64\n",
      " 14  NOK      3777 non-null   float64\n",
      " 15  TRY      3777 non-null   float64\n",
      " 16  AUD      3777 non-null   float64\n",
      " 17  BRL      3777 non-null   float64\n",
      " 18  CAD      3777 non-null   float64\n",
      " 19  CNY      3777 non-null   float64\n",
      " 20  HKD      3777 non-null   float64\n",
      " 21  IDR      3777 non-null   float64\n",
      " 22  INR      3777 non-null   float64\n",
      " 23  KRW      3777 non-null   float64\n",
      " 24  MXN      3777 non-null   float64\n",
      " 25  MYR      3777 non-null   float64\n",
      " 26  NZD      3777 non-null   float64\n",
      " 27  PHP      3777 non-null   float64\n",
      " 28  SGD      3777 non-null   float64\n",
      " 29  THB      3777 non-null   float64\n",
      " 30  ZAR      3777 non-null   float64\n",
      "dtypes: float64(28), int64(2), object(1)\n",
      "memory usage: 914.9+ KB\n"
     ]
    }
   ],
   "source": [
    "df.info()"
   ]
  },
  {
   "cell_type": "code",
   "execution_count": 5,
   "id": "b7cb29ab",
   "metadata": {
    "execution": {
     "iopub.execute_input": "2024-01-12T11:47:41.676938Z",
     "iopub.status.busy": "2024-01-12T11:47:41.676275Z",
     "iopub.status.idle": "2024-01-12T11:47:41.695817Z",
     "shell.execute_reply": "2024-01-12T11:47:41.694343Z"
    },
    "papermill": {
     "duration": 0.034,
     "end_time": "2024-01-12T11:47:41.699010",
     "exception": false,
     "start_time": "2024-01-12T11:47:41.665010",
     "status": "completed"
    },
    "tags": []
   },
   "outputs": [],
   "source": [
    "df['date']=pd.to_datetime(df['Date'], format = '%d/%m/%y')"
   ]
  },
  {
   "cell_type": "code",
   "execution_count": 6,
   "id": "4ca9febb",
   "metadata": {
    "execution": {
     "iopub.execute_input": "2024-01-12T11:47:41.721858Z",
     "iopub.status.busy": "2024-01-12T11:47:41.720632Z",
     "iopub.status.idle": "2024-01-12T11:47:41.730583Z",
     "shell.execute_reply": "2024-01-12T11:47:41.729027Z"
    },
    "papermill": {
     "duration": 0.024534,
     "end_time": "2024-01-12T11:47:41.733663",
     "exception": false,
     "start_time": "2024-01-12T11:47:41.709129",
     "status": "completed"
    },
    "tags": []
   },
   "outputs": [],
   "source": [
    "df['Year'] = df['date'].dt.year\n",
    "df['Day'] = df['date'].dt.day"
   ]
  },
  {
   "cell_type": "code",
   "execution_count": 7,
   "id": "c44cb903",
   "metadata": {
    "execution": {
     "iopub.execute_input": "2024-01-12T11:47:41.754716Z",
     "iopub.status.busy": "2024-01-12T11:47:41.754322Z",
     "iopub.status.idle": "2024-01-12T11:47:41.781977Z",
     "shell.execute_reply": "2024-01-12T11:47:41.780609Z"
    },
    "papermill": {
     "duration": 0.041398,
     "end_time": "2024-01-12T11:47:41.784637",
     "exception": false,
     "start_time": "2024-01-12T11:47:41.743239",
     "status": "completed"
    },
    "tags": []
   },
   "outputs": [
    {
     "data": {
      "text/html": [
       "<div>\n",
       "<style scoped>\n",
       "    .dataframe tbody tr th:only-of-type {\n",
       "        vertical-align: middle;\n",
       "    }\n",
       "\n",
       "    .dataframe tbody tr th {\n",
       "        vertical-align: top;\n",
       "    }\n",
       "\n",
       "    .dataframe thead th {\n",
       "        text-align: right;\n",
       "    }\n",
       "</style>\n",
       "<table border=\"1\" class=\"dataframe\">\n",
       "  <thead>\n",
       "    <tr style=\"text-align: right;\">\n",
       "      <th></th>\n",
       "      <th>Month</th>\n",
       "      <th>Weekday</th>\n",
       "      <th>Date</th>\n",
       "      <th>EUR</th>\n",
       "      <th>JPY</th>\n",
       "      <th>BGN</th>\n",
       "      <th>CZK</th>\n",
       "      <th>DKK</th>\n",
       "      <th>GBP</th>\n",
       "      <th>HUF</th>\n",
       "      <th>...</th>\n",
       "      <th>MXN</th>\n",
       "      <th>MYR</th>\n",
       "      <th>NZD</th>\n",
       "      <th>PHP</th>\n",
       "      <th>SGD</th>\n",
       "      <th>THB</th>\n",
       "      <th>ZAR</th>\n",
       "      <th>date</th>\n",
       "      <th>Year</th>\n",
       "      <th>Day</th>\n",
       "    </tr>\n",
       "  </thead>\n",
       "  <tbody>\n",
       "    <tr>\n",
       "      <th>0</th>\n",
       "      <td>9</td>\n",
       "      <td>4</td>\n",
       "      <td>27/09/23</td>\n",
       "      <td>1.0536</td>\n",
       "      <td>149.202733</td>\n",
       "      <td>1.856302</td>\n",
       "      <td>23.225133</td>\n",
       "      <td>7.077259</td>\n",
       "      <td>1.213685</td>\n",
       "      <td>370.966211</td>\n",
       "      <td>...</td>\n",
       "      <td>17.618071</td>\n",
       "      <td>4.707954</td>\n",
       "      <td>0.592609</td>\n",
       "      <td>56.990319</td>\n",
       "      <td>1.371393</td>\n",
       "      <td>36.580296</td>\n",
       "      <td>19.192863</td>\n",
       "      <td>2023-09-27</td>\n",
       "      <td>2023</td>\n",
       "      <td>27</td>\n",
       "    </tr>\n",
       "    <tr>\n",
       "      <th>1</th>\n",
       "      <td>9</td>\n",
       "      <td>3</td>\n",
       "      <td>26/09/23</td>\n",
       "      <td>1.0605</td>\n",
       "      <td>148.863743</td>\n",
       "      <td>1.844224</td>\n",
       "      <td>23.018388</td>\n",
       "      <td>7.032060</td>\n",
       "      <td>1.218685</td>\n",
       "      <td>366.694955</td>\n",
       "      <td>...</td>\n",
       "      <td>17.427251</td>\n",
       "      <td>4.689958</td>\n",
       "      <td>0.596390</td>\n",
       "      <td>57.007072</td>\n",
       "      <td>1.367280</td>\n",
       "      <td>36.349835</td>\n",
       "      <td>18.989816</td>\n",
       "      <td>2023-09-26</td>\n",
       "      <td>2023</td>\n",
       "      <td>26</td>\n",
       "    </tr>\n",
       "    <tr>\n",
       "      <th>2</th>\n",
       "      <td>9</td>\n",
       "      <td>2</td>\n",
       "      <td>25/09/23</td>\n",
       "      <td>1.0633</td>\n",
       "      <td>148.669237</td>\n",
       "      <td>1.839368</td>\n",
       "      <td>22.925797</td>\n",
       "      <td>7.013167</td>\n",
       "      <td>1.222676</td>\n",
       "      <td>367.798364</td>\n",
       "      <td>...</td>\n",
       "      <td>17.236340</td>\n",
       "      <td>4.685037</td>\n",
       "      <td>0.596589</td>\n",
       "      <td>56.752563</td>\n",
       "      <td>1.365936</td>\n",
       "      <td>36.110223</td>\n",
       "      <td>18.753879</td>\n",
       "      <td>2023-09-25</td>\n",
       "      <td>2023</td>\n",
       "      <td>25</td>\n",
       "    </tr>\n",
       "    <tr>\n",
       "      <th>3</th>\n",
       "      <td>9</td>\n",
       "      <td>6</td>\n",
       "      <td>22/09/23</td>\n",
       "      <td>1.0647</td>\n",
       "      <td>148.276510</td>\n",
       "      <td>1.836949</td>\n",
       "      <td>22.879684</td>\n",
       "      <td>7.002630</td>\n",
       "      <td>1.226684</td>\n",
       "      <td>363.200902</td>\n",
       "      <td>...</td>\n",
       "      <td>17.156006</td>\n",
       "      <td>4.687518</td>\n",
       "      <td>0.597039</td>\n",
       "      <td>56.757772</td>\n",
       "      <td>1.364610</td>\n",
       "      <td>35.960364</td>\n",
       "      <td>18.781816</td>\n",
       "      <td>2023-09-22</td>\n",
       "      <td>2023</td>\n",
       "      <td>22</td>\n",
       "    </tr>\n",
       "    <tr>\n",
       "      <th>4</th>\n",
       "      <td>9</td>\n",
       "      <td>5</td>\n",
       "      <td>21/09/23</td>\n",
       "      <td>1.0635</td>\n",
       "      <td>147.945463</td>\n",
       "      <td>1.839022</td>\n",
       "      <td>22.977903</td>\n",
       "      <td>7.009591</td>\n",
       "      <td>1.226460</td>\n",
       "      <td>364.626234</td>\n",
       "      <td>...</td>\n",
       "      <td>17.151011</td>\n",
       "      <td>4.691490</td>\n",
       "      <td>0.590702</td>\n",
       "      <td>56.921486</td>\n",
       "      <td>1.368970</td>\n",
       "      <td>36.189939</td>\n",
       "      <td>18.948942</td>\n",
       "      <td>2023-09-21</td>\n",
       "      <td>2023</td>\n",
       "      <td>21</td>\n",
       "    </tr>\n",
       "  </tbody>\n",
       "</table>\n",
       "<p>5 rows × 34 columns</p>\n",
       "</div>"
      ],
      "text/plain": [
       "   Month  Weekday      Date     EUR         JPY       BGN        CZK  \\\n",
       "0      9        4  27/09/23  1.0536  149.202733  1.856302  23.225133   \n",
       "1      9        3  26/09/23  1.0605  148.863743  1.844224  23.018388   \n",
       "2      9        2  25/09/23  1.0633  148.669237  1.839368  22.925797   \n",
       "3      9        6  22/09/23  1.0647  148.276510  1.836949  22.879684   \n",
       "4      9        5  21/09/23  1.0635  147.945463  1.839022  22.977903   \n",
       "\n",
       "        DKK       GBP         HUF  ...        MXN       MYR       NZD  \\\n",
       "0  7.077259  1.213685  370.966211  ...  17.618071  4.707954  0.592609   \n",
       "1  7.032060  1.218685  366.694955  ...  17.427251  4.689958  0.596390   \n",
       "2  7.013167  1.222676  367.798364  ...  17.236340  4.685037  0.596589   \n",
       "3  7.002630  1.226684  363.200902  ...  17.156006  4.687518  0.597039   \n",
       "4  7.009591  1.226460  364.626234  ...  17.151011  4.691490  0.590702   \n",
       "\n",
       "         PHP       SGD        THB        ZAR       date  Year  Day  \n",
       "0  56.990319  1.371393  36.580296  19.192863 2023-09-27  2023   27  \n",
       "1  57.007072  1.367280  36.349835  18.989816 2023-09-26  2023   26  \n",
       "2  56.752563  1.365936  36.110223  18.753879 2023-09-25  2023   25  \n",
       "3  56.757772  1.364610  35.960364  18.781816 2023-09-22  2023   22  \n",
       "4  56.921486  1.368970  36.189939  18.948942 2023-09-21  2023   21  \n",
       "\n",
       "[5 rows x 34 columns]"
      ]
     },
     "execution_count": 7,
     "metadata": {},
     "output_type": "execute_result"
    }
   ],
   "source": [
    "df.head()"
   ]
  },
  {
   "cell_type": "code",
   "execution_count": 8,
   "id": "4d1bcc16",
   "metadata": {
    "execution": {
     "iopub.execute_input": "2024-01-12T11:47:41.805647Z",
     "iopub.status.busy": "2024-01-12T11:47:41.804957Z",
     "iopub.status.idle": "2024-01-12T11:47:41.812267Z",
     "shell.execute_reply": "2024-01-12T11:47:41.811448Z"
    },
    "papermill": {
     "duration": 0.020581,
     "end_time": "2024-01-12T11:47:41.814692",
     "exception": false,
     "start_time": "2024-01-12T11:47:41.794111",
     "status": "completed"
    },
    "tags": []
   },
   "outputs": [
    {
     "data": {
      "text/plain": [
       "Month               int64\n",
       "Weekday             int64\n",
       "Date               object\n",
       "EUR               float64\n",
       "JPY               float64\n",
       "BGN               float64\n",
       "CZK               float64\n",
       "DKK               float64\n",
       "GBP               float64\n",
       "HUF               float64\n",
       "PLN               float64\n",
       "RON               float64\n",
       "SEK               float64\n",
       "CHF               float64\n",
       "NOK               float64\n",
       "TRY               float64\n",
       "AUD               float64\n",
       "BRL               float64\n",
       "CAD               float64\n",
       "CNY               float64\n",
       "HKD               float64\n",
       "IDR               float64\n",
       "INR               float64\n",
       "KRW               float64\n",
       "MXN               float64\n",
       "MYR               float64\n",
       "NZD               float64\n",
       "PHP               float64\n",
       "SGD               float64\n",
       "THB               float64\n",
       "ZAR               float64\n",
       "date       datetime64[ns]\n",
       "Year                int32\n",
       "Day                 int32\n",
       "dtype: object"
      ]
     },
     "execution_count": 8,
     "metadata": {},
     "output_type": "execute_result"
    }
   ],
   "source": [
    "df.dtypes"
   ]
  },
  {
   "cell_type": "code",
   "execution_count": 9,
   "id": "2e421b33",
   "metadata": {
    "execution": {
     "iopub.execute_input": "2024-01-12T11:47:41.837489Z",
     "iopub.status.busy": "2024-01-12T11:47:41.837051Z",
     "iopub.status.idle": "2024-01-12T11:47:41.845387Z",
     "shell.execute_reply": "2024-01-12T11:47:41.844509Z"
    },
    "papermill": {
     "duration": 0.023384,
     "end_time": "2024-01-12T11:47:41.847725",
     "exception": false,
     "start_time": "2024-01-12T11:47:41.824341",
     "status": "completed"
    },
    "tags": []
   },
   "outputs": [],
   "source": [
    "X=df.drop(['Date','date','INR'],axis=1)\n",
    "y=df['INR']"
   ]
  },
  {
   "cell_type": "code",
   "execution_count": 10,
   "id": "17d80ada",
   "metadata": {
    "execution": {
     "iopub.execute_input": "2024-01-12T11:47:41.869659Z",
     "iopub.status.busy": "2024-01-12T11:47:41.869093Z",
     "iopub.status.idle": "2024-01-12T11:47:41.890772Z",
     "shell.execute_reply": "2024-01-12T11:47:41.890049Z"
    },
    "papermill": {
     "duration": 0.035565,
     "end_time": "2024-01-12T11:47:41.893530",
     "exception": false,
     "start_time": "2024-01-12T11:47:41.857965",
     "status": "completed"
    },
    "tags": []
   },
   "outputs": [
    {
     "data": {
      "text/html": [
       "<div>\n",
       "<style scoped>\n",
       "    .dataframe tbody tr th:only-of-type {\n",
       "        vertical-align: middle;\n",
       "    }\n",
       "\n",
       "    .dataframe tbody tr th {\n",
       "        vertical-align: top;\n",
       "    }\n",
       "\n",
       "    .dataframe thead th {\n",
       "        text-align: right;\n",
       "    }\n",
       "</style>\n",
       "<table border=\"1\" class=\"dataframe\">\n",
       "  <thead>\n",
       "    <tr style=\"text-align: right;\">\n",
       "      <th></th>\n",
       "      <th>Month</th>\n",
       "      <th>Weekday</th>\n",
       "      <th>EUR</th>\n",
       "      <th>JPY</th>\n",
       "      <th>BGN</th>\n",
       "      <th>CZK</th>\n",
       "      <th>DKK</th>\n",
       "      <th>GBP</th>\n",
       "      <th>HUF</th>\n",
       "      <th>PLN</th>\n",
       "      <th>...</th>\n",
       "      <th>KRW</th>\n",
       "      <th>MXN</th>\n",
       "      <th>MYR</th>\n",
       "      <th>NZD</th>\n",
       "      <th>PHP</th>\n",
       "      <th>SGD</th>\n",
       "      <th>THB</th>\n",
       "      <th>ZAR</th>\n",
       "      <th>Year</th>\n",
       "      <th>Day</th>\n",
       "    </tr>\n",
       "  </thead>\n",
       "  <tbody>\n",
       "    <tr>\n",
       "      <th>0</th>\n",
       "      <td>9</td>\n",
       "      <td>4</td>\n",
       "      <td>1.0536</td>\n",
       "      <td>149.202733</td>\n",
       "      <td>1.856302</td>\n",
       "      <td>23.225133</td>\n",
       "      <td>7.077259</td>\n",
       "      <td>1.213685</td>\n",
       "      <td>370.966211</td>\n",
       "      <td>4.389711</td>\n",
       "      <td>...</td>\n",
       "      <td>1352.686029</td>\n",
       "      <td>17.618071</td>\n",
       "      <td>4.707954</td>\n",
       "      <td>0.592609</td>\n",
       "      <td>56.990319</td>\n",
       "      <td>1.371393</td>\n",
       "      <td>36.580296</td>\n",
       "      <td>19.192863</td>\n",
       "      <td>2023</td>\n",
       "      <td>27</td>\n",
       "    </tr>\n",
       "    <tr>\n",
       "      <th>1</th>\n",
       "      <td>9</td>\n",
       "      <td>3</td>\n",
       "      <td>1.0605</td>\n",
       "      <td>148.863743</td>\n",
       "      <td>1.844224</td>\n",
       "      <td>23.018388</td>\n",
       "      <td>7.032060</td>\n",
       "      <td>1.218685</td>\n",
       "      <td>366.694955</td>\n",
       "      <td>4.346346</td>\n",
       "      <td>...</td>\n",
       "      <td>1348.533711</td>\n",
       "      <td>17.427251</td>\n",
       "      <td>4.689958</td>\n",
       "      <td>0.596390</td>\n",
       "      <td>57.007072</td>\n",
       "      <td>1.367280</td>\n",
       "      <td>36.349835</td>\n",
       "      <td>18.989816</td>\n",
       "      <td>2023</td>\n",
       "      <td>26</td>\n",
       "    </tr>\n",
       "    <tr>\n",
       "      <th>2</th>\n",
       "      <td>9</td>\n",
       "      <td>2</td>\n",
       "      <td>1.0633</td>\n",
       "      <td>148.669237</td>\n",
       "      <td>1.839368</td>\n",
       "      <td>22.925797</td>\n",
       "      <td>7.013167</td>\n",
       "      <td>1.222676</td>\n",
       "      <td>367.798364</td>\n",
       "      <td>4.316091</td>\n",
       "      <td>...</td>\n",
       "      <td>1338.248848</td>\n",
       "      <td>17.236340</td>\n",
       "      <td>4.685037</td>\n",
       "      <td>0.596589</td>\n",
       "      <td>56.752563</td>\n",
       "      <td>1.365936</td>\n",
       "      <td>36.110223</td>\n",
       "      <td>18.753879</td>\n",
       "      <td>2023</td>\n",
       "      <td>25</td>\n",
       "    </tr>\n",
       "    <tr>\n",
       "      <th>3</th>\n",
       "      <td>9</td>\n",
       "      <td>6</td>\n",
       "      <td>1.0647</td>\n",
       "      <td>148.276510</td>\n",
       "      <td>1.836949</td>\n",
       "      <td>22.879684</td>\n",
       "      <td>7.002630</td>\n",
       "      <td>1.226684</td>\n",
       "      <td>363.200902</td>\n",
       "      <td>4.313422</td>\n",
       "      <td>...</td>\n",
       "      <td>1332.985818</td>\n",
       "      <td>17.156006</td>\n",
       "      <td>4.687518</td>\n",
       "      <td>0.597039</td>\n",
       "      <td>56.757772</td>\n",
       "      <td>1.364610</td>\n",
       "      <td>35.960364</td>\n",
       "      <td>18.781816</td>\n",
       "      <td>2023</td>\n",
       "      <td>22</td>\n",
       "    </tr>\n",
       "    <tr>\n",
       "      <th>4</th>\n",
       "      <td>9</td>\n",
       "      <td>5</td>\n",
       "      <td>1.0635</td>\n",
       "      <td>147.945463</td>\n",
       "      <td>1.839022</td>\n",
       "      <td>22.977903</td>\n",
       "      <td>7.009591</td>\n",
       "      <td>1.226460</td>\n",
       "      <td>364.626234</td>\n",
       "      <td>4.350729</td>\n",
       "      <td>...</td>\n",
       "      <td>1340.902680</td>\n",
       "      <td>17.151011</td>\n",
       "      <td>4.691490</td>\n",
       "      <td>0.590702</td>\n",
       "      <td>56.921486</td>\n",
       "      <td>1.368970</td>\n",
       "      <td>36.189939</td>\n",
       "      <td>18.948942</td>\n",
       "      <td>2023</td>\n",
       "      <td>21</td>\n",
       "    </tr>\n",
       "  </tbody>\n",
       "</table>\n",
       "<p>5 rows × 31 columns</p>\n",
       "</div>"
      ],
      "text/plain": [
       "   Month  Weekday     EUR         JPY       BGN        CZK       DKK  \\\n",
       "0      9        4  1.0536  149.202733  1.856302  23.225133  7.077259   \n",
       "1      9        3  1.0605  148.863743  1.844224  23.018388  7.032060   \n",
       "2      9        2  1.0633  148.669237  1.839368  22.925797  7.013167   \n",
       "3      9        6  1.0647  148.276510  1.836949  22.879684  7.002630   \n",
       "4      9        5  1.0635  147.945463  1.839022  22.977903  7.009591   \n",
       "\n",
       "        GBP         HUF       PLN  ...          KRW        MXN       MYR  \\\n",
       "0  1.213685  370.966211  4.389711  ...  1352.686029  17.618071  4.707954   \n",
       "1  1.218685  366.694955  4.346346  ...  1348.533711  17.427251  4.689958   \n",
       "2  1.222676  367.798364  4.316091  ...  1338.248848  17.236340  4.685037   \n",
       "3  1.226684  363.200902  4.313422  ...  1332.985818  17.156006  4.687518   \n",
       "4  1.226460  364.626234  4.350729  ...  1340.902680  17.151011  4.691490   \n",
       "\n",
       "        NZD        PHP       SGD        THB        ZAR  Year  Day  \n",
       "0  0.592609  56.990319  1.371393  36.580296  19.192863  2023   27  \n",
       "1  0.596390  57.007072  1.367280  36.349835  18.989816  2023   26  \n",
       "2  0.596589  56.752563  1.365936  36.110223  18.753879  2023   25  \n",
       "3  0.597039  56.757772  1.364610  35.960364  18.781816  2023   22  \n",
       "4  0.590702  56.921486  1.368970  36.189939  18.948942  2023   21  \n",
       "\n",
       "[5 rows x 31 columns]"
      ]
     },
     "execution_count": 10,
     "metadata": {},
     "output_type": "execute_result"
    }
   ],
   "source": [
    "X.head()"
   ]
  },
  {
   "cell_type": "code",
   "execution_count": 11,
   "id": "f702ef0f",
   "metadata": {
    "execution": {
     "iopub.execute_input": "2024-01-12T11:47:41.916033Z",
     "iopub.status.busy": "2024-01-12T11:47:41.915249Z",
     "iopub.status.idle": "2024-01-12T11:47:43.533471Z",
     "shell.execute_reply": "2024-01-12T11:47:43.532373Z"
    },
    "papermill": {
     "duration": 1.63312,
     "end_time": "2024-01-12T11:47:43.536460",
     "exception": false,
     "start_time": "2024-01-12T11:47:41.903340",
     "status": "completed"
    },
    "tags": []
   },
   "outputs": [],
   "source": [
    "from sklearn.ensemble import GradientBoostingRegressor\n",
    "from sklearn.preprocessing import StandardScaler\n",
    "from sklearn.model_selection import train_test_split\n",
    "from sklearn.metrics import accuracy_score, confusion_matrix\n",
    "from sklearn import preprocessing"
   ]
  },
  {
   "cell_type": "code",
   "execution_count": 12,
   "id": "c5d3e347",
   "metadata": {
    "execution": {
     "iopub.execute_input": "2024-01-12T11:47:43.559977Z",
     "iopub.status.busy": "2024-01-12T11:47:43.559502Z",
     "iopub.status.idle": "2024-01-12T11:47:43.568053Z",
     "shell.execute_reply": "2024-01-12T11:47:43.567000Z"
    },
    "papermill": {
     "duration": 0.023718,
     "end_time": "2024-01-12T11:47:43.570851",
     "exception": false,
     "start_time": "2024-01-12T11:47:43.547133",
     "status": "completed"
    },
    "tags": []
   },
   "outputs": [],
   "source": [
    "X_train, X_test, y_train, y_test = train_test_split(X,y,test_size=0.2)"
   ]
  },
  {
   "cell_type": "code",
   "execution_count": 13,
   "id": "ace17647",
   "metadata": {
    "execution": {
     "iopub.execute_input": "2024-01-12T11:47:43.592475Z",
     "iopub.status.busy": "2024-01-12T11:47:43.592083Z",
     "iopub.status.idle": "2024-01-12T11:47:43.597426Z",
     "shell.execute_reply": "2024-01-12T11:47:43.596132Z"
    },
    "papermill": {
     "duration": 0.018758,
     "end_time": "2024-01-12T11:47:43.599781",
     "exception": false,
     "start_time": "2024-01-12T11:47:43.581023",
     "status": "completed"
    },
    "tags": []
   },
   "outputs": [],
   "source": [
    "params = {\n",
    "    \"n_estimators\": 500,\n",
    "    \"max_depth\": 4,\n",
    "    \"min_samples_split\": 5,\n",
    "    \"learning_rate\": 0.01,\n",
    "    \"loss\": \"squared_error\"\n",
    "}"
   ]
  },
  {
   "cell_type": "code",
   "execution_count": 14,
   "id": "7382a18e",
   "metadata": {
    "execution": {
     "iopub.execute_input": "2024-01-12T11:47:43.622248Z",
     "iopub.status.busy": "2024-01-12T11:47:43.621594Z",
     "iopub.status.idle": "2024-01-12T11:47:43.625653Z",
     "shell.execute_reply": "2024-01-12T11:47:43.624875Z"
    },
    "papermill": {
     "duration": 0.018241,
     "end_time": "2024-01-12T11:47:43.628017",
     "exception": false,
     "start_time": "2024-01-12T11:47:43.609776",
     "status": "completed"
    },
    "tags": []
   },
   "outputs": [],
   "source": [
    "GB_model = GradientBoostingRegressor(**params)"
   ]
  },
  {
   "cell_type": "code",
   "execution_count": 15,
   "id": "f324fa8b",
   "metadata": {
    "execution": {
     "iopub.execute_input": "2024-01-12T11:47:43.650150Z",
     "iopub.status.busy": "2024-01-12T11:47:43.649637Z",
     "iopub.status.idle": "2024-01-12T11:48:02.718489Z",
     "shell.execute_reply": "2024-01-12T11:48:02.717413Z"
    },
    "papermill": {
     "duration": 19.083812,
     "end_time": "2024-01-12T11:48:02.721582",
     "exception": false,
     "start_time": "2024-01-12T11:47:43.637770",
     "status": "completed"
    },
    "tags": []
   },
   "outputs": [
    {
     "data": {
      "text/html": [
       "<style>#sk-container-id-1 {color: black;background-color: white;}#sk-container-id-1 pre{padding: 0;}#sk-container-id-1 div.sk-toggleable {background-color: white;}#sk-container-id-1 label.sk-toggleable__label {cursor: pointer;display: block;width: 100%;margin-bottom: 0;padding: 0.3em;box-sizing: border-box;text-align: center;}#sk-container-id-1 label.sk-toggleable__label-arrow:before {content: \"▸\";float: left;margin-right: 0.25em;color: #696969;}#sk-container-id-1 label.sk-toggleable__label-arrow:hover:before {color: black;}#sk-container-id-1 div.sk-estimator:hover label.sk-toggleable__label-arrow:before {color: black;}#sk-container-id-1 div.sk-toggleable__content {max-height: 0;max-width: 0;overflow: hidden;text-align: left;background-color: #f0f8ff;}#sk-container-id-1 div.sk-toggleable__content pre {margin: 0.2em;color: black;border-radius: 0.25em;background-color: #f0f8ff;}#sk-container-id-1 input.sk-toggleable__control:checked~div.sk-toggleable__content {max-height: 200px;max-width: 100%;overflow: auto;}#sk-container-id-1 input.sk-toggleable__control:checked~label.sk-toggleable__label-arrow:before {content: \"▾\";}#sk-container-id-1 div.sk-estimator input.sk-toggleable__control:checked~label.sk-toggleable__label {background-color: #d4ebff;}#sk-container-id-1 div.sk-label input.sk-toggleable__control:checked~label.sk-toggleable__label {background-color: #d4ebff;}#sk-container-id-1 input.sk-hidden--visually {border: 0;clip: rect(1px 1px 1px 1px);clip: rect(1px, 1px, 1px, 1px);height: 1px;margin: -1px;overflow: hidden;padding: 0;position: absolute;width: 1px;}#sk-container-id-1 div.sk-estimator {font-family: monospace;background-color: #f0f8ff;border: 1px dotted black;border-radius: 0.25em;box-sizing: border-box;margin-bottom: 0.5em;}#sk-container-id-1 div.sk-estimator:hover {background-color: #d4ebff;}#sk-container-id-1 div.sk-parallel-item::after {content: \"\";width: 100%;border-bottom: 1px solid gray;flex-grow: 1;}#sk-container-id-1 div.sk-label:hover label.sk-toggleable__label {background-color: #d4ebff;}#sk-container-id-1 div.sk-serial::before {content: \"\";position: absolute;border-left: 1px solid gray;box-sizing: border-box;top: 0;bottom: 0;left: 50%;z-index: 0;}#sk-container-id-1 div.sk-serial {display: flex;flex-direction: column;align-items: center;background-color: white;padding-right: 0.2em;padding-left: 0.2em;position: relative;}#sk-container-id-1 div.sk-item {position: relative;z-index: 1;}#sk-container-id-1 div.sk-parallel {display: flex;align-items: stretch;justify-content: center;background-color: white;position: relative;}#sk-container-id-1 div.sk-item::before, #sk-container-id-1 div.sk-parallel-item::before {content: \"\";position: absolute;border-left: 1px solid gray;box-sizing: border-box;top: 0;bottom: 0;left: 50%;z-index: -1;}#sk-container-id-1 div.sk-parallel-item {display: flex;flex-direction: column;z-index: 1;position: relative;background-color: white;}#sk-container-id-1 div.sk-parallel-item:first-child::after {align-self: flex-end;width: 50%;}#sk-container-id-1 div.sk-parallel-item:last-child::after {align-self: flex-start;width: 50%;}#sk-container-id-1 div.sk-parallel-item:only-child::after {width: 0;}#sk-container-id-1 div.sk-dashed-wrapped {border: 1px dashed gray;margin: 0 0.4em 0.5em 0.4em;box-sizing: border-box;padding-bottom: 0.4em;background-color: white;}#sk-container-id-1 div.sk-label label {font-family: monospace;font-weight: bold;display: inline-block;line-height: 1.2em;}#sk-container-id-1 div.sk-label-container {text-align: center;}#sk-container-id-1 div.sk-container {/* jupyter's `normalize.less` sets `[hidden] { display: none; }` but bootstrap.min.css set `[hidden] { display: none !important; }` so we also need the `!important` here to be able to override the default hidden behavior on the sphinx rendered scikit-learn.org. See: https://github.com/scikit-learn/scikit-learn/issues/21755 */display: inline-block !important;position: relative;}#sk-container-id-1 div.sk-text-repr-fallback {display: none;}</style><div id=\"sk-container-id-1\" class=\"sk-top-container\"><div class=\"sk-text-repr-fallback\"><pre>GradientBoostingRegressor(learning_rate=0.01, max_depth=4, min_samples_split=5,\n",
       "                          n_estimators=500)</pre><b>In a Jupyter environment, please rerun this cell to show the HTML representation or trust the notebook. <br />On GitHub, the HTML representation is unable to render, please try loading this page with nbviewer.org.</b></div><div class=\"sk-container\" hidden><div class=\"sk-item\"><div class=\"sk-estimator sk-toggleable\"><input class=\"sk-toggleable__control sk-hidden--visually\" id=\"sk-estimator-id-1\" type=\"checkbox\" checked><label for=\"sk-estimator-id-1\" class=\"sk-toggleable__label sk-toggleable__label-arrow\">GradientBoostingRegressor</label><div class=\"sk-toggleable__content\"><pre>GradientBoostingRegressor(learning_rate=0.01, max_depth=4, min_samples_split=5,\n",
       "                          n_estimators=500)</pre></div></div></div></div></div>"
      ],
      "text/plain": [
       "GradientBoostingRegressor(learning_rate=0.01, max_depth=4, min_samples_split=5,\n",
       "                          n_estimators=500)"
      ]
     },
     "execution_count": 15,
     "metadata": {},
     "output_type": "execute_result"
    }
   ],
   "source": [
    "GB_model.fit(X_train,y_train)"
   ]
  },
  {
   "cell_type": "code",
   "execution_count": 16,
   "id": "ec116fe9",
   "metadata": {
    "execution": {
     "iopub.execute_input": "2024-01-12T11:48:02.744584Z",
     "iopub.status.busy": "2024-01-12T11:48:02.743664Z",
     "iopub.status.idle": "2024-01-12T11:48:02.749924Z",
     "shell.execute_reply": "2024-01-12T11:48:02.748769Z"
    },
    "papermill": {
     "duration": 0.020667,
     "end_time": "2024-01-12T11:48:02.752620",
     "exception": false,
     "start_time": "2024-01-12T11:48:02.731953",
     "status": "completed"
    },
    "tags": []
   },
   "outputs": [],
   "source": [
    "from sklearn.metrics import mean_squared_error, mean_absolute_error, r2_score"
   ]
  },
  {
   "cell_type": "code",
   "execution_count": 17,
   "id": "2fdb2984",
   "metadata": {
    "execution": {
     "iopub.execute_input": "2024-01-12T11:48:02.775401Z",
     "iopub.status.busy": "2024-01-12T11:48:02.774774Z",
     "iopub.status.idle": "2024-01-12T11:48:02.796990Z",
     "shell.execute_reply": "2024-01-12T11:48:02.795986Z"
    },
    "papermill": {
     "duration": 0.036314,
     "end_time": "2024-01-12T11:48:02.799556",
     "exception": false,
     "start_time": "2024-01-12T11:48:02.763242",
     "status": "completed"
    },
    "tags": []
   },
   "outputs": [
    {
     "data": {
      "text/plain": [
       "0.99814298832529"
      ]
     },
     "execution_count": 17,
     "metadata": {},
     "output_type": "execute_result"
    }
   ],
   "source": [
    "testScore = GB_model.score(X_test,y_test)\n",
    "testScore"
   ]
  },
  {
   "cell_type": "code",
   "execution_count": 18,
   "id": "ef33a67d",
   "metadata": {
    "execution": {
     "iopub.execute_input": "2024-01-12T11:48:02.821734Z",
     "iopub.status.busy": "2024-01-12T11:48:02.821315Z",
     "iopub.status.idle": "2024-01-12T11:48:02.841045Z",
     "shell.execute_reply": "2024-01-12T11:48:02.839898Z"
    },
    "papermill": {
     "duration": 0.03459,
     "end_time": "2024-01-12T11:48:02.844317",
     "exception": false,
     "start_time": "2024-01-12T11:48:02.809727",
     "status": "completed"
    },
    "tags": []
   },
   "outputs": [],
   "source": [
    "predictedValues = GB_model.predict(X_test)"
   ]
  },
  {
   "cell_type": "code",
   "execution_count": 19,
   "id": "c0063f63",
   "metadata": {
    "execution": {
     "iopub.execute_input": "2024-01-12T11:48:02.867077Z",
     "iopub.status.busy": "2024-01-12T11:48:02.866717Z",
     "iopub.status.idle": "2024-01-12T11:48:02.874523Z",
     "shell.execute_reply": "2024-01-12T11:48:02.873216Z"
    },
    "papermill": {
     "duration": 0.022528,
     "end_time": "2024-01-12T11:48:02.877066",
     "exception": false,
     "start_time": "2024-01-12T11:48:02.854538",
     "status": "completed"
    },
    "tags": []
   },
   "outputs": [
    {
     "data": {
      "text/plain": [
       "0.23768754368667258"
      ]
     },
     "execution_count": 19,
     "metadata": {},
     "output_type": "execute_result"
    }
   ],
   "source": [
    "mse = mean_squared_error(y_test, predictedValues)\n",
    "mse"
   ]
  },
  {
   "cell_type": "code",
   "execution_count": 20,
   "id": "066f8a37",
   "metadata": {
    "execution": {
     "iopub.execute_input": "2024-01-12T11:48:02.899813Z",
     "iopub.status.busy": "2024-01-12T11:48:02.899389Z",
     "iopub.status.idle": "2024-01-12T11:48:02.907919Z",
     "shell.execute_reply": "2024-01-12T11:48:02.906718Z"
    },
    "papermill": {
     "duration": 0.022866,
     "end_time": "2024-01-12T11:48:02.910393",
     "exception": false,
     "start_time": "2024-01-12T11:48:02.887527",
     "status": "completed"
    },
    "tags": []
   },
   "outputs": [
    {
     "data": {
      "text/plain": [
       "0.37584222449257226"
      ]
     },
     "execution_count": 20,
     "metadata": {},
     "output_type": "execute_result"
    }
   ],
   "source": [
    "mae = mean_absolute_error(y_test,predictedValues)\n",
    "mae"
   ]
  },
  {
   "cell_type": "code",
   "execution_count": 21,
   "id": "3ed0052b",
   "metadata": {
    "execution": {
     "iopub.execute_input": "2024-01-12T11:48:02.934001Z",
     "iopub.status.busy": "2024-01-12T11:48:02.933626Z",
     "iopub.status.idle": "2024-01-12T11:48:02.940926Z",
     "shell.execute_reply": "2024-01-12T11:48:02.940077Z"
    },
    "papermill": {
     "duration": 0.021277,
     "end_time": "2024-01-12T11:48:02.942813",
     "exception": false,
     "start_time": "2024-01-12T11:48:02.921536",
     "status": "completed"
    },
    "tags": []
   },
   "outputs": [
    {
     "data": {
      "text/plain": [
       "0.99814298832529"
      ]
     },
     "execution_count": 21,
     "metadata": {},
     "output_type": "execute_result"
    }
   ],
   "source": [
    "r2 = r2_score(y_test, predictedValues)\n",
    "r2"
   ]
  },
  {
   "cell_type": "code",
   "execution_count": 22,
   "id": "816e7e61",
   "metadata": {
    "execution": {
     "iopub.execute_input": "2024-01-12T11:48:02.964761Z",
     "iopub.status.busy": "2024-01-12T11:48:02.964287Z",
     "iopub.status.idle": "2024-01-12T11:48:02.974385Z",
     "shell.execute_reply": "2024-01-12T11:48:02.973138Z"
    },
    "papermill": {
     "duration": 0.023671,
     "end_time": "2024-01-12T11:48:02.976515",
     "exception": false,
     "start_time": "2024-01-12T11:48:02.952844",
     "status": "completed"
    },
    "tags": []
   },
   "outputs": [
    {
     "data": {
      "text/plain": [
       "0      68.711250\n",
       "1      48.465623\n",
       "2      74.372341\n",
       "3      66.740678\n",
       "4      69.511660\n",
       "         ...    \n",
       "751    60.083503\n",
       "752    65.073381\n",
       "753    74.118635\n",
       "754    74.200121\n",
       "755    71.950371\n",
       "Length: 756, dtype: float64"
      ]
     },
     "execution_count": 22,
     "metadata": {},
     "output_type": "execute_result"
    }
   ],
   "source": [
    "predictedSeries = pd.Series(predictedValues)\n",
    "predictedSeries"
   ]
  },
  {
   "cell_type": "code",
   "execution_count": 23,
   "id": "e9418f5f",
   "metadata": {
    "execution": {
     "iopub.execute_input": "2024-01-12T11:48:03.065324Z",
     "iopub.status.busy": "2024-01-12T11:48:03.064826Z",
     "iopub.status.idle": "2024-01-12T11:48:03.074185Z",
     "shell.execute_reply": "2024-01-12T11:48:03.072961Z"
    },
    "papermill": {
     "duration": 0.02357,
     "end_time": "2024-01-12T11:48:03.076549",
     "exception": false,
     "start_time": "2024-01-12T11:48:03.052979",
     "status": "completed"
    },
    "tags": []
   },
   "outputs": [
    {
     "data": {
      "text/plain": [
       "1970    67.996328\n",
       "3676    47.669952\n",
       "499     74.858986\n",
       "1782    66.893912\n",
       "1083    68.364643\n",
       "          ...    \n",
       "2368    59.554994\n",
       "1486    64.577465\n",
       "520     73.683336\n",
       "546     74.218060\n",
       "1280    72.911856\n",
       "Name: INR, Length: 756, dtype: float64"
      ]
     },
     "execution_count": 23,
     "metadata": {},
     "output_type": "execute_result"
    }
   ],
   "source": [
    "y_test #series"
   ]
  },
  {
   "cell_type": "code",
   "execution_count": 24,
   "id": "479b4278",
   "metadata": {
    "execution": {
     "iopub.execute_input": "2024-01-12T11:48:03.098901Z",
     "iopub.status.busy": "2024-01-12T11:48:03.098464Z",
     "iopub.status.idle": "2024-01-12T11:48:03.113146Z",
     "shell.execute_reply": "2024-01-12T11:48:03.111708Z"
    },
    "papermill": {
     "duration": 0.028314,
     "end_time": "2024-01-12T11:48:03.115434",
     "exception": false,
     "start_time": "2024-01-12T11:48:03.087120",
     "status": "completed"
    },
    "tags": []
   },
   "outputs": [
    {
     "data": {
      "text/html": [
       "<div>\n",
       "<style scoped>\n",
       "    .dataframe tbody tr th:only-of-type {\n",
       "        vertical-align: middle;\n",
       "    }\n",
       "\n",
       "    .dataframe tbody tr th {\n",
       "        vertical-align: top;\n",
       "    }\n",
       "\n",
       "    .dataframe thead th {\n",
       "        text-align: right;\n",
       "    }\n",
       "</style>\n",
       "<table border=\"1\" class=\"dataframe\">\n",
       "  <thead>\n",
       "    <tr style=\"text-align: right;\">\n",
       "      <th></th>\n",
       "      <th>index</th>\n",
       "      <th>INR</th>\n",
       "    </tr>\n",
       "  </thead>\n",
       "  <tbody>\n",
       "    <tr>\n",
       "      <th>0</th>\n",
       "      <td>1970</td>\n",
       "      <td>67.996328</td>\n",
       "    </tr>\n",
       "    <tr>\n",
       "      <th>1</th>\n",
       "      <td>3676</td>\n",
       "      <td>47.669952</td>\n",
       "    </tr>\n",
       "    <tr>\n",
       "      <th>2</th>\n",
       "      <td>499</td>\n",
       "      <td>74.858986</td>\n",
       "    </tr>\n",
       "    <tr>\n",
       "      <th>3</th>\n",
       "      <td>1782</td>\n",
       "      <td>66.893912</td>\n",
       "    </tr>\n",
       "    <tr>\n",
       "      <th>4</th>\n",
       "      <td>1083</td>\n",
       "      <td>68.364643</td>\n",
       "    </tr>\n",
       "    <tr>\n",
       "      <th>...</th>\n",
       "      <td>...</td>\n",
       "      <td>...</td>\n",
       "    </tr>\n",
       "    <tr>\n",
       "      <th>751</th>\n",
       "      <td>2368</td>\n",
       "      <td>59.554994</td>\n",
       "    </tr>\n",
       "    <tr>\n",
       "      <th>752</th>\n",
       "      <td>1486</td>\n",
       "      <td>64.577465</td>\n",
       "    </tr>\n",
       "    <tr>\n",
       "      <th>753</th>\n",
       "      <td>520</td>\n",
       "      <td>73.683336</td>\n",
       "    </tr>\n",
       "    <tr>\n",
       "      <th>754</th>\n",
       "      <td>546</td>\n",
       "      <td>74.218060</td>\n",
       "    </tr>\n",
       "    <tr>\n",
       "      <th>755</th>\n",
       "      <td>1280</td>\n",
       "      <td>72.911856</td>\n",
       "    </tr>\n",
       "  </tbody>\n",
       "</table>\n",
       "<p>756 rows × 2 columns</p>\n",
       "</div>"
      ],
      "text/plain": [
       "     index        INR\n",
       "0     1970  67.996328\n",
       "1     3676  47.669952\n",
       "2      499  74.858986\n",
       "3     1782  66.893912\n",
       "4     1083  68.364643\n",
       "..     ...        ...\n",
       "751   2368  59.554994\n",
       "752   1486  64.577465\n",
       "753    520  73.683336\n",
       "754    546  74.218060\n",
       "755   1280  72.911856\n",
       "\n",
       "[756 rows x 2 columns]"
      ]
     },
     "execution_count": 24,
     "metadata": {},
     "output_type": "execute_result"
    }
   ],
   "source": [
    "newDf = y_test.reset_index()\n",
    "newDf"
   ]
  },
  {
   "cell_type": "code",
   "execution_count": 25,
   "id": "2e40c3a1",
   "metadata": {
    "execution": {
     "iopub.execute_input": "2024-01-12T11:48:03.137560Z",
     "iopub.status.busy": "2024-01-12T11:48:03.137194Z",
     "iopub.status.idle": "2024-01-12T11:48:03.143050Z",
     "shell.execute_reply": "2024-01-12T11:48:03.141758Z"
    },
    "papermill": {
     "duration": 0.01949,
     "end_time": "2024-01-12T11:48:03.145273",
     "exception": false,
     "start_time": "2024-01-12T11:48:03.125783",
     "status": "completed"
    },
    "tags": []
   },
   "outputs": [],
   "source": [
    "newDf['Predicted']=predictedSeries"
   ]
  },
  {
   "cell_type": "code",
   "execution_count": 26,
   "id": "d9060ff6",
   "metadata": {
    "execution": {
     "iopub.execute_input": "2024-01-12T11:48:03.168310Z",
     "iopub.status.busy": "2024-01-12T11:48:03.167847Z",
     "iopub.status.idle": "2024-01-12T11:48:03.174009Z",
     "shell.execute_reply": "2024-01-12T11:48:03.173141Z"
    },
    "papermill": {
     "duration": 0.020003,
     "end_time": "2024-01-12T11:48:03.175995",
     "exception": false,
     "start_time": "2024-01-12T11:48:03.155992",
     "status": "completed"
    },
    "tags": []
   },
   "outputs": [],
   "source": [
    "newDf.drop(['index'],axis=1,inplace=True)"
   ]
  },
  {
   "cell_type": "code",
   "execution_count": 27,
   "id": "a9d17ba9",
   "metadata": {
    "execution": {
     "iopub.execute_input": "2024-01-12T11:48:03.201029Z",
     "iopub.status.busy": "2024-01-12T11:48:03.200597Z",
     "iopub.status.idle": "2024-01-12T11:48:03.212732Z",
     "shell.execute_reply": "2024-01-12T11:48:03.212015Z"
    },
    "papermill": {
     "duration": 0.027653,
     "end_time": "2024-01-12T11:48:03.215003",
     "exception": false,
     "start_time": "2024-01-12T11:48:03.187350",
     "status": "completed"
    },
    "tags": []
   },
   "outputs": [
    {
     "data": {
      "text/html": [
       "<div>\n",
       "<style scoped>\n",
       "    .dataframe tbody tr th:only-of-type {\n",
       "        vertical-align: middle;\n",
       "    }\n",
       "\n",
       "    .dataframe tbody tr th {\n",
       "        vertical-align: top;\n",
       "    }\n",
       "\n",
       "    .dataframe thead th {\n",
       "        text-align: right;\n",
       "    }\n",
       "</style>\n",
       "<table border=\"1\" class=\"dataframe\">\n",
       "  <thead>\n",
       "    <tr style=\"text-align: right;\">\n",
       "      <th></th>\n",
       "      <th>INR</th>\n",
       "      <th>Predicted</th>\n",
       "    </tr>\n",
       "  </thead>\n",
       "  <tbody>\n",
       "    <tr>\n",
       "      <th>0</th>\n",
       "      <td>67.996328</td>\n",
       "      <td>68.711250</td>\n",
       "    </tr>\n",
       "    <tr>\n",
       "      <th>1</th>\n",
       "      <td>47.669952</td>\n",
       "      <td>48.465623</td>\n",
       "    </tr>\n",
       "    <tr>\n",
       "      <th>2</th>\n",
       "      <td>74.858986</td>\n",
       "      <td>74.372341</td>\n",
       "    </tr>\n",
       "    <tr>\n",
       "      <th>3</th>\n",
       "      <td>66.893912</td>\n",
       "      <td>66.740678</td>\n",
       "    </tr>\n",
       "    <tr>\n",
       "      <th>4</th>\n",
       "      <td>68.364643</td>\n",
       "      <td>69.511660</td>\n",
       "    </tr>\n",
       "    <tr>\n",
       "      <th>...</th>\n",
       "      <td>...</td>\n",
       "      <td>...</td>\n",
       "    </tr>\n",
       "    <tr>\n",
       "      <th>751</th>\n",
       "      <td>59.554994</td>\n",
       "      <td>60.083503</td>\n",
       "    </tr>\n",
       "    <tr>\n",
       "      <th>752</th>\n",
       "      <td>64.577465</td>\n",
       "      <td>65.073381</td>\n",
       "    </tr>\n",
       "    <tr>\n",
       "      <th>753</th>\n",
       "      <td>73.683336</td>\n",
       "      <td>74.118635</td>\n",
       "    </tr>\n",
       "    <tr>\n",
       "      <th>754</th>\n",
       "      <td>74.218060</td>\n",
       "      <td>74.200121</td>\n",
       "    </tr>\n",
       "    <tr>\n",
       "      <th>755</th>\n",
       "      <td>72.911856</td>\n",
       "      <td>71.950371</td>\n",
       "    </tr>\n",
       "  </tbody>\n",
       "</table>\n",
       "<p>756 rows × 2 columns</p>\n",
       "</div>"
      ],
      "text/plain": [
       "           INR  Predicted\n",
       "0    67.996328  68.711250\n",
       "1    47.669952  48.465623\n",
       "2    74.858986  74.372341\n",
       "3    66.893912  66.740678\n",
       "4    68.364643  69.511660\n",
       "..         ...        ...\n",
       "751  59.554994  60.083503\n",
       "752  64.577465  65.073381\n",
       "753  73.683336  74.118635\n",
       "754  74.218060  74.200121\n",
       "755  72.911856  71.950371\n",
       "\n",
       "[756 rows x 2 columns]"
      ]
     },
     "execution_count": 27,
     "metadata": {},
     "output_type": "execute_result"
    }
   ],
   "source": [
    "newDf"
   ]
  },
  {
   "cell_type": "code",
   "execution_count": 28,
   "id": "5c06eab3",
   "metadata": {
    "execution": {
     "iopub.execute_input": "2024-01-12T11:48:03.240750Z",
     "iopub.status.busy": "2024-01-12T11:48:03.240317Z",
     "iopub.status.idle": "2024-01-12T11:48:03.245890Z",
     "shell.execute_reply": "2024-01-12T11:48:03.244534Z"
    },
    "papermill": {
     "duration": 0.021329,
     "end_time": "2024-01-12T11:48:03.248307",
     "exception": false,
     "start_time": "2024-01-12T11:48:03.226978",
     "status": "completed"
    },
    "tags": []
   },
   "outputs": [],
   "source": [
    "import matplotlib.pyplot as plt"
   ]
  },
  {
   "cell_type": "code",
   "execution_count": 29,
   "id": "c2a52571",
   "metadata": {
    "execution": {
     "iopub.execute_input": "2024-01-12T11:48:03.274067Z",
     "iopub.status.busy": "2024-01-12T11:48:03.272745Z",
     "iopub.status.idle": "2024-01-12T11:48:03.782733Z",
     "shell.execute_reply": "2024-01-12T11:48:03.781726Z"
    },
    "papermill": {
     "duration": 0.525885,
     "end_time": "2024-01-12T11:48:03.785638",
     "exception": false,
     "start_time": "2024-01-12T11:48:03.259753",
     "status": "completed"
    },
    "tags": []
   },
   "outputs": [
    {
     "data": {
      "image/png": "[encoded data removed]",
      "text/plain": [
       "<Figure size 600x600 with 1 Axes>"
      ]
     },
     "metadata": {},
     "output_type": "display_data"
    }
   ],
   "source": [
    "test_score = np.zeros((params[\"n_estimators\"],), dtype=np.float64)\n",
    "for i, y_pred in enumerate(GB_model.staged_predict(X_test)):\n",
    "    test_score[i] = mean_squared_error(y_test, y_pred)\n",
    "\n",
    "fig = plt.figure(figsize=(6, 6))\n",
    "plt.subplot(1, 1, 1)\n",
    "plt.title(\"Deviance\")\n",
    "plt.plot(\n",
    "    np.arange(params[\"n_estimators\"]) + 1,\n",
    "    GB_model.train_score_,\n",
    "    \"b-\",\n",
    "    label=\"Training Set Deviance\",\n",
    ")\n",
    "plt.plot(\n",
    "    np.arange(params[\"n_estimators\"]) + 1, test_score, \"r-\", label=\"Test Set Deviance\"\n",
    ")\n",
    "\n",
    "plt.legend(loc=\"upper right\")\n",
    "plt.xlabel(\"Boosting Iterations\")\n",
    "plt.ylabel(\"Deviance\")\n",
    "fig.tight_layout()\n",
    "plt.show()"
   ]
  },
  {
   "cell_type": "code",
   "execution_count": 30,
   "id": "56041e70",
   "metadata": {
    "execution": {
     "iopub.execute_input": "2024-01-12T11:48:03.813089Z",
     "iopub.status.busy": "2024-01-12T11:48:03.812653Z",
     "iopub.status.idle": "2024-01-12T11:48:04.208799Z",
     "shell.execute_reply": "2024-01-12T11:48:04.207734Z"
    },
    "papermill": {
     "duration": 0.413386,
     "end_time": "2024-01-12T11:48:04.211466",
     "exception": false,
     "start_time": "2024-01-12T11:48:03.798080",
     "status": "completed"
    },
    "tags": []
   },
   "outputs": [
    {
     "data": {
      "image/png": "[encoded data removed]",
      "text/plain": [
       "<Figure size 1200x600 with 1 Axes>"
      ]
     },
     "metadata": {},
     "output_type": "display_data"
    }
   ],
   "source": [
    "feature_importance = GB_model.feature_importances_\n",
    "sorted_idx = np.argsort(feature_importance)\n",
    "pos = np.arange(sorted_idx.shape[0]) + 0.5\n",
    "fig = plt.figure(figsize=(12, 6))\n",
    "plt.subplot(1, 2, 1)\n",
    "plt.barh(pos, feature_importance[sorted_idx], align=\"center\")\n",
    "plt.yticks(pos, np.array(df.columns)[sorted_idx])\n",
    "plt.title(\"Feature Importance\")\n",
    "plt.show()"
   ]
  },
  {
   "cell_type": "code",
   "execution_count": 31,
   "id": "0e492217",
   "metadata": {
    "execution": {
     "iopub.execute_input": "2024-01-12T11:48:04.237958Z",
     "iopub.status.busy": "2024-01-12T11:48:04.237297Z",
     "iopub.status.idle": "2024-01-12T11:52:44.580019Z",
     "shell.execute_reply": "2024-01-12T11:52:44.578459Z"
    },
    "papermill": {
     "duration": 280.372219,
     "end_time": "2024-01-12T11:52:44.595813",
     "exception": false,
     "start_time": "2024-01-12T11:48:04.223594",
     "status": "completed"
    },
    "tags": []
   },
   "outputs": [
    {
     "name": "stdout",
     "output_type": "stream",
     "text": [
      "Best Parameters: {'learning_rate': 0.1, 'n_estimators': 400}\n",
      "Train Score: 0.9983338290401471\n",
      "Test Score: 0.9989040251767656\n"
     ]
    }
   ],
   "source": [
    "from sklearn.model_selection import GridSearchCV\n",
    "\n",
    "grid = {\n",
    "\n",
    "    'learning_rate':[0.01,0.05,0.1],\n",
    "\n",
    "    'n_estimators':np.arange(100,500,100),\n",
    "    \n",
    "    \n",
    "\n",
    "}\n",
    "\n",
    "\n",
    "gb = GradientBoostingRegressor()\n",
    "\n",
    "gb_cv = GridSearchCV(gb, grid, cv = 4)\n",
    "\n",
    "gb_cv.fit(X_train,y_train)\n",
    "\n",
    "print(\"Best Parameters:\",gb_cv.best_params_)\n",
    "\n",
    "print(\"Train Score:\",gb_cv.best_score_)\n",
    "\n",
    "print(\"Test Score:\",gb_cv.score(X_test,y_test))"
   ]
  },
  {
   "cell_type": "code",
   "execution_count": 32,
   "id": "d241d7ea",
   "metadata": {
    "execution": {
     "iopub.execute_input": "2024-01-12T11:52:44.625306Z",
     "iopub.status.busy": "2024-01-12T11:52:44.624838Z",
     "iopub.status.idle": "2024-01-12T11:52:44.629487Z",
     "shell.execute_reply": "2024-01-12T11:52:44.628209Z"
    },
    "papermill": {
     "duration": 0.022049,
     "end_time": "2024-01-12T11:52:44.631914",
     "exception": false,
     "start_time": "2024-01-12T11:52:44.609865",
     "status": "completed"
    },
    "tags": []
   },
   "outputs": [],
   "source": [
    "# hyperparameter tuning\n",
    "# applying neural network\n",
    "# some advanced model like LSTM?"
   ]
  },
  {
   "cell_type": "code",
   "execution_count": 33,
   "id": "4173bc01",
   "metadata": {
    "execution": {
     "iopub.execute_input": "2024-01-12T11:52:44.661782Z",
     "iopub.status.busy": "2024-01-12T11:52:44.661120Z",
     "iopub.status.idle": "2024-01-12T11:52:44.668981Z",
     "shell.execute_reply": "2024-01-12T11:52:44.667774Z"
    },
    "papermill": {
     "duration": 0.026691,
     "end_time": "2024-01-12T11:52:44.671653",
     "exception": false,
     "start_time": "2024-01-12T11:52:44.644962",
     "status": "completed"
    },
    "tags": []
   },
   "outputs": [],
   "source": [
    "df['INR Predictions']=newDf['Predicted']"
   ]
  },
  {
   "cell_type": "code",
   "execution_count": 34,
   "id": "a50d71ca",
   "metadata": {
    "execution": {
     "iopub.execute_input": "2024-01-12T11:52:44.700585Z",
     "iopub.status.busy": "2024-01-12T11:52:44.699599Z",
     "iopub.status.idle": "2024-01-12T11:52:44.732649Z",
     "shell.execute_reply": "2024-01-12T11:52:44.731077Z"
    },
    "papermill": {
     "duration": 0.051461,
     "end_time": "2024-01-12T11:52:44.736197",
     "exception": false,
     "start_time": "2024-01-12T11:52:44.684736",
     "status": "completed"
    },
    "tags": []
   },
   "outputs": [
    {
     "data": {
      "text/html": [
       "<div>\n",
       "<style scoped>\n",
       "    .dataframe tbody tr th:only-of-type {\n",
       "        vertical-align: middle;\n",
       "    }\n",
       "\n",
       "    .dataframe tbody tr th {\n",
       "        vertical-align: top;\n",
       "    }\n",
       "\n",
       "    .dataframe thead th {\n",
       "        text-align: right;\n",
       "    }\n",
       "</style>\n",
       "<table border=\"1\" class=\"dataframe\">\n",
       "  <thead>\n",
       "    <tr style=\"text-align: right;\">\n",
       "      <th></th>\n",
       "      <th>Month</th>\n",
       "      <th>Weekday</th>\n",
       "      <th>Date</th>\n",
       "      <th>EUR</th>\n",
       "      <th>JPY</th>\n",
       "      <th>BGN</th>\n",
       "      <th>CZK</th>\n",
       "      <th>DKK</th>\n",
       "      <th>GBP</th>\n",
       "      <th>HUF</th>\n",
       "      <th>...</th>\n",
       "      <th>MYR</th>\n",
       "      <th>NZD</th>\n",
       "      <th>PHP</th>\n",
       "      <th>SGD</th>\n",
       "      <th>THB</th>\n",
       "      <th>ZAR</th>\n",
       "      <th>date</th>\n",
       "      <th>Year</th>\n",
       "      <th>Day</th>\n",
       "      <th>INR Predictions</th>\n",
       "    </tr>\n",
       "  </thead>\n",
       "  <tbody>\n",
       "    <tr>\n",
       "      <th>0</th>\n",
       "      <td>9</td>\n",
       "      <td>4</td>\n",
       "      <td>27/09/23</td>\n",
       "      <td>1.0536</td>\n",
       "      <td>149.202733</td>\n",
       "      <td>1.856302</td>\n",
       "      <td>23.225133</td>\n",
       "      <td>7.077259</td>\n",
       "      <td>1.213685</td>\n",
       "      <td>370.966211</td>\n",
       "      <td>...</td>\n",
       "      <td>4.707954</td>\n",
       "      <td>0.592609</td>\n",
       "      <td>56.990319</td>\n",
       "      <td>1.371393</td>\n",
       "      <td>36.580296</td>\n",
       "      <td>19.192863</td>\n",
       "      <td>2023-09-27</td>\n",
       "      <td>2023</td>\n",
       "      <td>27</td>\n",
       "      <td>68.711250</td>\n",
       "    </tr>\n",
       "    <tr>\n",
       "      <th>1</th>\n",
       "      <td>9</td>\n",
       "      <td>3</td>\n",
       "      <td>26/09/23</td>\n",
       "      <td>1.0605</td>\n",
       "      <td>148.863743</td>\n",
       "      <td>1.844224</td>\n",
       "      <td>23.018388</td>\n",
       "      <td>7.032060</td>\n",
       "      <td>1.218685</td>\n",
       "      <td>366.694955</td>\n",
       "      <td>...</td>\n",
       "      <td>4.689958</td>\n",
       "      <td>0.596390</td>\n",
       "      <td>57.007072</td>\n",
       "      <td>1.367280</td>\n",
       "      <td>36.349835</td>\n",
       "      <td>18.989816</td>\n",
       "      <td>2023-09-26</td>\n",
       "      <td>2023</td>\n",
       "      <td>26</td>\n",
       "      <td>48.465623</td>\n",
       "    </tr>\n",
       "    <tr>\n",
       "      <th>2</th>\n",
       "      <td>9</td>\n",
       "      <td>2</td>\n",
       "      <td>25/09/23</td>\n",
       "      <td>1.0633</td>\n",
       "      <td>148.669237</td>\n",
       "      <td>1.839368</td>\n",
       "      <td>22.925797</td>\n",
       "      <td>7.013167</td>\n",
       "      <td>1.222676</td>\n",
       "      <td>367.798364</td>\n",
       "      <td>...</td>\n",
       "      <td>4.685037</td>\n",
       "      <td>0.596589</td>\n",
       "      <td>56.752563</td>\n",
       "      <td>1.365936</td>\n",
       "      <td>36.110223</td>\n",
       "      <td>18.753879</td>\n",
       "      <td>2023-09-25</td>\n",
       "      <td>2023</td>\n",
       "      <td>25</td>\n",
       "      <td>74.372341</td>\n",
       "    </tr>\n",
       "    <tr>\n",
       "      <th>3</th>\n",
       "      <td>9</td>\n",
       "      <td>6</td>\n",
       "      <td>22/09/23</td>\n",
       "      <td>1.0647</td>\n",
       "      <td>148.276510</td>\n",
       "      <td>1.836949</td>\n",
       "      <td>22.879684</td>\n",
       "      <td>7.002630</td>\n",
       "      <td>1.226684</td>\n",
       "      <td>363.200902</td>\n",
       "      <td>...</td>\n",
       "      <td>4.687518</td>\n",
       "      <td>0.597039</td>\n",
       "      <td>56.757772</td>\n",
       "      <td>1.364610</td>\n",
       "      <td>35.960364</td>\n",
       "      <td>18.781816</td>\n",
       "      <td>2023-09-22</td>\n",
       "      <td>2023</td>\n",
       "      <td>22</td>\n",
       "      <td>66.740678</td>\n",
       "    </tr>\n",
       "    <tr>\n",
       "      <th>4</th>\n",
       "      <td>9</td>\n",
       "      <td>5</td>\n",
       "      <td>21/09/23</td>\n",
       "      <td>1.0635</td>\n",
       "      <td>147.945463</td>\n",
       "      <td>1.839022</td>\n",
       "      <td>22.977903</td>\n",
       "      <td>7.009591</td>\n",
       "      <td>1.226460</td>\n",
       "      <td>364.626234</td>\n",
       "      <td>...</td>\n",
       "      <td>4.691490</td>\n",
       "      <td>0.590702</td>\n",
       "      <td>56.921486</td>\n",
       "      <td>1.368970</td>\n",
       "      <td>36.189939</td>\n",
       "      <td>18.948942</td>\n",
       "      <td>2023-09-21</td>\n",
       "      <td>2023</td>\n",
       "      <td>21</td>\n",
       "      <td>69.511660</td>\n",
       "    </tr>\n",
       "  </tbody>\n",
       "</table>\n",
       "<p>5 rows × 35 columns</p>\n",
       "</div>"
      ],
      "text/plain": [
       "   Month  Weekday      Date     EUR         JPY       BGN        CZK  \\\n",
       "0      9        4  27/09/23  1.0536  149.202733  1.856302  23.225133   \n",
       "1      9        3  26/09/23  1.0605  148.863743  1.844224  23.018388   \n",
       "2      9        2  25/09/23  1.0633  148.669237  1.839368  22.925797   \n",
       "3      9        6  22/09/23  1.0647  148.276510  1.836949  22.879684   \n",
       "4      9        5  21/09/23  1.0635  147.945463  1.839022  22.977903   \n",
       "\n",
       "        DKK       GBP         HUF  ...       MYR       NZD        PHP  \\\n",
       "0  7.077259  1.213685  370.966211  ...  4.707954  0.592609  56.990319   \n",
       "1  7.032060  1.218685  366.694955  ...  4.689958  0.596390  57.007072   \n",
       "2  7.013167  1.222676  367.798364  ...  4.685037  0.596589  56.752563   \n",
       "3  7.002630  1.226684  363.200902  ...  4.687518  0.597039  56.757772   \n",
       "4  7.009591  1.226460  364.626234  ...  4.691490  0.590702  56.921486   \n",
       "\n",
       "        SGD        THB        ZAR       date  Year  Day  INR Predictions  \n",
       "0  1.371393  36.580296  19.192863 2023-09-27  2023   27        68.711250  \n",
       "1  1.367280  36.349835  18.989816 2023-09-26  2023   26        48.465623  \n",
       "2  1.365936  36.110223  18.753879 2023-09-25  2023   25        74.372341  \n",
       "3  1.364610  35.960364  18.781816 2023-09-22  2023   22        66.740678  \n",
       "4  1.368970  36.189939  18.948942 2023-09-21  2023   21        69.511660  \n",
       "\n",
       "[5 rows x 35 columns]"
      ]
     },
     "execution_count": 34,
     "metadata": {},
     "output_type": "execute_result"
    }
   ],
   "source": [
    "df.head()"
   ]
  },
  {
   "cell_type": "code",
   "execution_count": 35,
   "id": "df915b52",
   "metadata": {
    "execution": {
     "iopub.execute_input": "2024-01-12T11:52:44.766413Z",
     "iopub.status.busy": "2024-01-12T11:52:44.765963Z",
     "iopub.status.idle": "2024-01-12T11:52:48.608016Z",
     "shell.execute_reply": "2024-01-12T11:52:48.606694Z"
    },
    "papermill": {
     "duration": 3.860607,
     "end_time": "2024-01-12T11:52:48.611172",
     "exception": false,
     "start_time": "2024-01-12T11:52:44.750565",
     "status": "completed"
    },
    "tags": []
   },
   "outputs": [],
   "source": [
    "df.to_excel('output.xlsx', index=False)"
   ]
  },
  {
   "cell_type": "code",
   "execution_count": null,
   "id": "1ebc8080",
   "metadata": {
    "papermill": {
     "duration": 0.013571,
     "end_time": "2024-01-12T11:52:48.638299",
     "exception": false,
     "start_time": "2024-01-12T11:52:48.624728",
     "status": "completed"
    },
    "tags": []
   },
   "outputs": [],
   "source": []
  }
 ],
 "metadata": {
  "kaggle": {
   "accelerator": "none",
   "dataSources": [
    {
     "datasetId": 4294273,
     "sourceId": 7387798,
     "sourceType": "datasetVersion"
    }
   ],
   "dockerImageVersionId": 30635,
   "isGpuEnabled": false,
   "isInternetEnabled": true,
   "language": "python",
   "sourceType": "notebook"
  },
  "kernelspec": {
   "display_name": "Python 3",
   "language": "python",
   "name": "python3"
  },
  "language_info": {
   "codemirror_mode": {
    "name": "ipython",
    "version": 3
   },
   "file_extension": ".py",
   "mimetype": "text/x-python",
   "name": "python",
   "nbconvert_exporter": "python",
   "pygments_lexer": "ipython3",
   "version": "3.10.12"
  },
  "papermill": {
   "default_parameters": {},
   "duration": 312.116969,
   "end_time": "2024-01-12T11:52:49.679859",
   "environment_variables": {},
   "exception": null,
   "input_path": "__notebook__.ipynb",
   "output_path": "__notebook__.ipynb",
   "parameters": {},
   "start_time": "2024-01-12T11:47:37.562890",
   "version": "2.4.0"
  }
 },
 "nbformat": 4,
 "nbformat_minor": 5
}
